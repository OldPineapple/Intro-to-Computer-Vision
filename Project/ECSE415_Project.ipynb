{
  "nbformat": 4,
  "nbformat_minor": 0,
  "metadata": {
    "colab": {
      "name": "ECSE415_Project.ipynb",
      "provenance": [],
      "collapsed_sections": []
    },
    "kernelspec": {
      "name": "python3",
      "display_name": "Python 3"
    },
    "accelerator": "GPU"
  },
  "cells": [
    {
      "cell_type": "markdown",
      "metadata": {
        "id": "WQOZruvDmQJJ"
      },
      "source": [
        "# ECSE415 Project  \r\n",
        "Group 06  \r\n",
        "Yudong Zhou 260721223  \r\n",
        "Yifan He 260763870  \r\n",
        "Yichen Wang 260766685  \r\n",
        "Hanwen Wang 260778557"
      ]
    },
    {
      "cell_type": "markdown",
      "metadata": {
        "id": "wmkJs3KknF7C"
      },
      "source": [
        "# 1"
      ]
    },
    {
      "cell_type": "markdown",
      "metadata": {
        "id": "V1LfP20CbU2c"
      },
      "source": [
        "## Install detectron2"
      ]
    },
    {
      "cell_type": "code",
      "metadata": {
        "id": "CPwmvp-CoMgo",
        "colab": {
          "base_uri": "https://localhost:8080/"
        },
        "outputId": "f2022ef8-de02-4e56-9c89-704d3721bde8"
      },
      "source": [
        "# install dependencies: \r\n",
        "!pip install pyyaml==5.1\r\n",
        "import torch, torchvision\r\n",
        "print(torch.__version__, torch.cuda.is_available())\r\n",
        "!gcc --version\r\n",
        "# opencv is pre-installed on colab"
      ],
      "execution_count": null,
      "outputs": [
        {
          "output_type": "stream",
          "text": [
            "Requirement already satisfied: pyyaml==5.1 in /usr/local/lib/python3.6/dist-packages (5.1)\n",
            "1.7.0+cu101 True\n",
            "gcc (Ubuntu 7.5.0-3ubuntu1~18.04) 7.5.0\n",
            "Copyright (C) 2017 Free Software Foundation, Inc.\n",
            "This is free software; see the source for copying conditions.  There is NO\n",
            "warranty; not even for MERCHANTABILITY or FITNESS FOR A PARTICULAR PURPOSE.\n",
            "\n"
          ],
          "name": "stdout"
        }
      ]
    },
    {
      "cell_type": "code",
      "metadata": {
        "id": "SmLcgwvobhw9",
        "colab": {
          "base_uri": "https://localhost:8080/"
        },
        "outputId": "18695bd4-07f5-4dae-c835-7262361e47ec"
      },
      "source": [
        "# install detectron2: (Colab has CUDA 10.1 + torch 1.7)\r\n",
        "# See https://detectron2.readthedocs.io/tutorials/install.html for instructions\r\n",
        "import torch\r\n",
        "assert torch.__version__.startswith(\"1.7\")\r\n",
        "!pip install detectron2 -f https://dl.fbaipublicfiles.com/detectron2/wheels/cu101/torch1.7/index.html\r\n",
        "# exit(0)  # After installation, you need to \"restart runtime\" in Colab. This line can also restart runtime"
      ],
      "execution_count": null,
      "outputs": [
        {
          "output_type": "stream",
          "text": [
            "Looking in links: https://dl.fbaipublicfiles.com/detectron2/wheels/cu101/torch1.7/index.html\n",
            "Requirement already satisfied: detectron2 in /usr/local/lib/python3.6/dist-packages (0.3+cu101)\n",
            "Requirement already satisfied: termcolor>=1.1 in /usr/local/lib/python3.6/dist-packages (from detectron2) (1.1.0)\n",
            "Requirement already satisfied: tabulate in /usr/local/lib/python3.6/dist-packages (from detectron2) (0.8.7)\n",
            "Requirement already satisfied: Pillow>=7.1 in /usr/local/lib/python3.6/dist-packages (from detectron2) (8.0.1)\n",
            "Requirement already satisfied: future in /usr/local/lib/python3.6/dist-packages (from detectron2) (0.16.0)\n",
            "Requirement already satisfied: pydot in /usr/local/lib/python3.6/dist-packages (from detectron2) (1.3.0)\n",
            "Requirement already satisfied: tqdm>4.29.0 in /usr/local/lib/python3.6/dist-packages (from detectron2) (4.41.1)\n",
            "Requirement already satisfied: tensorboard in /usr/local/lib/python3.6/dist-packages (from detectron2) (2.3.0)\n",
            "Requirement already satisfied: matplotlib in /usr/local/lib/python3.6/dist-packages (from detectron2) (3.2.2)\n",
            "Requirement already satisfied: cloudpickle in /usr/local/lib/python3.6/dist-packages (from detectron2) (1.3.0)\n",
            "Requirement already satisfied: fvcore>=0.1.2 in /usr/local/lib/python3.6/dist-packages (from detectron2) (0.1.2.post20201213)\n",
            "Requirement already satisfied: pycocotools>=2.0.2 in /usr/local/lib/python3.6/dist-packages (from detectron2) (2.0.2)\n",
            "Requirement already satisfied: yacs>=0.1.6 in /usr/local/lib/python3.6/dist-packages (from detectron2) (0.1.8)\n",
            "Requirement already satisfied: pyparsing>=2.1.4 in /usr/local/lib/python3.6/dist-packages (from pydot->detectron2) (2.4.7)\n",
            "Requirement already satisfied: absl-py>=0.4 in /usr/local/lib/python3.6/dist-packages (from tensorboard->detectron2) (0.10.0)\n",
            "Requirement already satisfied: requests<3,>=2.21.0 in /usr/local/lib/python3.6/dist-packages (from tensorboard->detectron2) (2.23.0)\n",
            "Requirement already satisfied: google-auth<2,>=1.6.3 in /usr/local/lib/python3.6/dist-packages (from tensorboard->detectron2) (1.17.2)\n",
            "Requirement already satisfied: tensorboard-plugin-wit>=1.6.0 in /usr/local/lib/python3.6/dist-packages (from tensorboard->detectron2) (1.7.0)\n",
            "Requirement already satisfied: wheel>=0.26; python_version >= \"3\" in /usr/local/lib/python3.6/dist-packages (from tensorboard->detectron2) (0.36.1)\n",
            "Requirement already satisfied: google-auth-oauthlib<0.5,>=0.4.1 in /usr/local/lib/python3.6/dist-packages (from tensorboard->detectron2) (0.4.2)\n",
            "Requirement already satisfied: werkzeug>=0.11.15 in /usr/local/lib/python3.6/dist-packages (from tensorboard->detectron2) (1.0.1)\n",
            "Requirement already satisfied: six>=1.10.0 in /usr/local/lib/python3.6/dist-packages (from tensorboard->detectron2) (1.15.0)\n",
            "Requirement already satisfied: numpy>=1.12.0 in /usr/local/lib/python3.6/dist-packages (from tensorboard->detectron2) (1.18.5)\n",
            "Requirement already satisfied: grpcio>=1.24.3 in /usr/local/lib/python3.6/dist-packages (from tensorboard->detectron2) (1.34.0)\n",
            "Requirement already satisfied: setuptools>=41.0.0 in /usr/local/lib/python3.6/dist-packages (from tensorboard->detectron2) (50.3.2)\n",
            "Requirement already satisfied: markdown>=2.6.8 in /usr/local/lib/python3.6/dist-packages (from tensorboard->detectron2) (3.3.3)\n",
            "Requirement already satisfied: protobuf>=3.6.0 in /usr/local/lib/python3.6/dist-packages (from tensorboard->detectron2) (3.12.4)\n",
            "Requirement already satisfied: kiwisolver>=1.0.1 in /usr/local/lib/python3.6/dist-packages (from matplotlib->detectron2) (1.3.1)\n",
            "Requirement already satisfied: cycler>=0.10 in /usr/local/lib/python3.6/dist-packages (from matplotlib->detectron2) (0.10.0)\n",
            "Requirement already satisfied: python-dateutil>=2.1 in /usr/local/lib/python3.6/dist-packages (from matplotlib->detectron2) (2.8.1)\n",
            "Requirement already satisfied: pyyaml>=5.1 in /usr/local/lib/python3.6/dist-packages (from fvcore>=0.1.2->detectron2) (5.1)\n",
            "Requirement already satisfied: iopath>=0.1.2 in /usr/local/lib/python3.6/dist-packages (from fvcore>=0.1.2->detectron2) (0.1.2)\n",
            "Requirement already satisfied: cython>=0.27.3 in /usr/local/lib/python3.6/dist-packages (from pycocotools>=2.0.2->detectron2) (0.29.21)\n",
            "Requirement already satisfied: chardet<4,>=3.0.2 in /usr/local/lib/python3.6/dist-packages (from requests<3,>=2.21.0->tensorboard->detectron2) (3.0.4)\n",
            "Requirement already satisfied: certifi>=2017.4.17 in /usr/local/lib/python3.6/dist-packages (from requests<3,>=2.21.0->tensorboard->detectron2) (2020.12.5)\n",
            "Requirement already satisfied: urllib3!=1.25.0,!=1.25.1,<1.26,>=1.21.1 in /usr/local/lib/python3.6/dist-packages (from requests<3,>=2.21.0->tensorboard->detectron2) (1.24.3)\n",
            "Requirement already satisfied: idna<3,>=2.5 in /usr/local/lib/python3.6/dist-packages (from requests<3,>=2.21.0->tensorboard->detectron2) (2.10)\n",
            "Requirement already satisfied: pyasn1-modules>=0.2.1 in /usr/local/lib/python3.6/dist-packages (from google-auth<2,>=1.6.3->tensorboard->detectron2) (0.2.8)\n",
            "Requirement already satisfied: cachetools<5.0,>=2.0.0 in /usr/local/lib/python3.6/dist-packages (from google-auth<2,>=1.6.3->tensorboard->detectron2) (4.1.1)\n",
            "Requirement already satisfied: rsa<5,>=3.1.4; python_version >= \"3\" in /usr/local/lib/python3.6/dist-packages (from google-auth<2,>=1.6.3->tensorboard->detectron2) (4.6)\n",
            "Requirement already satisfied: requests-oauthlib>=0.7.0 in /usr/local/lib/python3.6/dist-packages (from google-auth-oauthlib<0.5,>=0.4.1->tensorboard->detectron2) (1.3.0)\n",
            "Requirement already satisfied: importlib-metadata; python_version < \"3.8\" in /usr/local/lib/python3.6/dist-packages (from markdown>=2.6.8->tensorboard->detectron2) (3.1.1)\n",
            "Requirement already satisfied: portalocker in /usr/local/lib/python3.6/dist-packages (from iopath>=0.1.2->fvcore>=0.1.2->detectron2) (2.0.0)\n",
            "Requirement already satisfied: pyasn1<0.5.0,>=0.4.6 in /usr/local/lib/python3.6/dist-packages (from pyasn1-modules>=0.2.1->google-auth<2,>=1.6.3->tensorboard->detectron2) (0.4.8)\n",
            "Requirement already satisfied: oauthlib>=3.0.0 in /usr/local/lib/python3.6/dist-packages (from requests-oauthlib>=0.7.0->google-auth-oauthlib<0.5,>=0.4.1->tensorboard->detectron2) (3.1.0)\n",
            "Requirement already satisfied: zipp>=0.5 in /usr/local/lib/python3.6/dist-packages (from importlib-metadata; python_version < \"3.8\"->markdown>=2.6.8->tensorboard->detectron2) (3.4.0)\n"
          ],
          "name": "stdout"
        }
      ]
    },
    {
      "cell_type": "markdown",
      "metadata": {
        "id": "lcRhekhr-WXu"
      },
      "source": [
        "Restart runtime after these two code blocks."
      ]
    },
    {
      "cell_type": "code",
      "metadata": {
        "colab": {
          "base_uri": "https://localhost:8080/"
        },
        "id": "B6XZOpRHE3qM",
        "outputId": "459391fe-4731-420c-ec56-56cd14bce32d"
      },
      "source": [
        "# run this code after restart runtime\r\n",
        "from google.colab import drive\r\n",
        "drive.mount('/content/drive')\r\n",
        "\r\n",
        "# make path = './' connect to the path of the folder stroing images\r\n",
        "path = '/content/drive/My Drive/ECSE_415_F_2020/Project/'"
      ],
      "execution_count": null,
      "outputs": [
        {
          "output_type": "stream",
          "text": [
            "Drive already mounted at /content/drive; to attempt to forcibly remount, call drive.mount(\"/content/drive\", force_remount=True).\n"
          ],
          "name": "stdout"
        }
      ]
    },
    {
      "cell_type": "code",
      "metadata": {
        "id": "lvSmCPmCbk9I"
      },
      "source": [
        "# Some basic setup:\r\n",
        "# Setup detectron2 logger\r\n",
        "import detectron2\r\n",
        "from detectron2.utils.logger import setup_logger\r\n",
        "setup_logger()\r\n",
        "\r\n",
        "# import some common libraries\r\n",
        "import numpy as np\r\n",
        "import os, json, cv2, random\r\n",
        "from google.colab.patches import cv2_imshow\r\n",
        "\r\n",
        "# import some common detectron2 utilities\r\n",
        "from detectron2 import model_zoo\r\n",
        "from detectron2.engine import DefaultPredictor\r\n",
        "from detectron2.config import get_cfg\r\n",
        "from detectron2.utils.visualizer import Visualizer\r\n",
        "from detectron2.data import MetadataCatalog, DatasetCatalog"
      ],
      "execution_count": null,
      "outputs": []
    },
    {
      "cell_type": "markdown",
      "metadata": {
        "id": "OOvXAoiob27R"
      },
      "source": [
        "## Detect human using detectron2"
      ]
    },
    {
      "cell_type": "code",
      "metadata": {
        "id": "zlhufp3wb7fB",
        "colab": {
          "base_uri": "https://localhost:8080/"
        },
        "outputId": "d1976ef3-4940-4aee-c663-473935cc9e36"
      },
      "source": [
        "# store sorted files' name\r\n",
        "path_frames = path + 'frames/frames/'\r\n",
        "files = os.listdir(path_frames)\r\n",
        "files = sorted(files)\r\n",
        "\r\n",
        "my_files = [] # this variable will store names of your randomly selected 100 files\r\n",
        "\r\n",
        "for i in range(2000):\r\n",
        "  my_files.append(files[i])\r\n",
        "\r\n",
        "print(my_files)"
      ],
      "execution_count": null,
      "outputs": [
        {
          "output_type": "stream",
          "text": [
            "['seq_000001.jpg', 'seq_000002.jpg', 'seq_000003.jpg', 'seq_000004.jpg', 'seq_000005.jpg', 'seq_000006.jpg', 'seq_000007.jpg', 'seq_000008.jpg', 'seq_000009.jpg', 'seq_000010.jpg', 'seq_000011.jpg', 'seq_000012.jpg', 'seq_000013.jpg', 'seq_000014.jpg', 'seq_000015.jpg', 'seq_000016.jpg', 'seq_000017.jpg', 'seq_000018.jpg', 'seq_000019.jpg', 'seq_000020.jpg', 'seq_000021.jpg', 'seq_000022.jpg', 'seq_000023.jpg', 'seq_000024.jpg', 'seq_000025.jpg', 'seq_000026.jpg', 'seq_000027.jpg', 'seq_000028.jpg', 'seq_000029.jpg', 'seq_000030.jpg', 'seq_000031.jpg', 'seq_000032.jpg', 'seq_000033.jpg', 'seq_000034.jpg', 'seq_000035.jpg', 'seq_000036.jpg', 'seq_000037.jpg', 'seq_000038.jpg', 'seq_000039.jpg', 'seq_000040.jpg', 'seq_000041.jpg', 'seq_000042.jpg', 'seq_000043.jpg', 'seq_000044.jpg', 'seq_000045.jpg', 'seq_000046.jpg', 'seq_000047.jpg', 'seq_000048.jpg', 'seq_000049.jpg', 'seq_000050.jpg', 'seq_000051.jpg', 'seq_000052.jpg', 'seq_000053.jpg', 'seq_000054.jpg', 'seq_000055.jpg', 'seq_000056.jpg', 'seq_000057.jpg', 'seq_000058.jpg', 'seq_000059.jpg', 'seq_000060.jpg', 'seq_000061.jpg', 'seq_000062.jpg', 'seq_000063.jpg', 'seq_000064.jpg', 'seq_000065.jpg', 'seq_000066.jpg', 'seq_000067.jpg', 'seq_000068.jpg', 'seq_000069.jpg', 'seq_000070.jpg', 'seq_000071.jpg', 'seq_000072.jpg', 'seq_000073.jpg', 'seq_000074.jpg', 'seq_000075.jpg', 'seq_000076.jpg', 'seq_000077.jpg', 'seq_000078.jpg', 'seq_000079.jpg', 'seq_000080.jpg', 'seq_000081.jpg', 'seq_000082.jpg', 'seq_000083.jpg', 'seq_000084.jpg', 'seq_000085.jpg', 'seq_000086.jpg', 'seq_000087.jpg', 'seq_000088.jpg', 'seq_000089.jpg', 'seq_000090.jpg', 'seq_000091.jpg', 'seq_000092.jpg', 'seq_000093.jpg', 'seq_000094.jpg', 'seq_000095.jpg', 'seq_000096.jpg', 'seq_000097.jpg', 'seq_000098.jpg', 'seq_000099.jpg', 'seq_000100.jpg', 'seq_000101.jpg', 'seq_000102.jpg', 'seq_000103.jpg', 'seq_000104.jpg', 'seq_000105.jpg', 'seq_000106.jpg', 'seq_000107.jpg', 'seq_000108.jpg', 'seq_000109.jpg', 'seq_000110.jpg', 'seq_000111.jpg', 'seq_000112.jpg', 'seq_000113.jpg', 'seq_000114.jpg', 'seq_000115.jpg', 'seq_000116.jpg', 'seq_000117.jpg', 'seq_000118.jpg', 'seq_000119.jpg', 'seq_000120.jpg', 'seq_000121.jpg', 'seq_000122.jpg', 'seq_000123.jpg', 'seq_000124.jpg', 'seq_000125.jpg', 'seq_000126.jpg', 'seq_000127.jpg', 'seq_000128.jpg', 'seq_000129.jpg', 'seq_000130.jpg', 'seq_000131.jpg', 'seq_000132.jpg', 'seq_000133.jpg', 'seq_000134.jpg', 'seq_000135.jpg', 'seq_000136.jpg', 'seq_000137.jpg', 'seq_000138.jpg', 'seq_000139.jpg', 'seq_000140.jpg', 'seq_000141.jpg', 'seq_000142.jpg', 'seq_000143.jpg', 'seq_000144.jpg', 'seq_000145.jpg', 'seq_000146.jpg', 'seq_000147.jpg', 'seq_000148.jpg', 'seq_000149.jpg', 'seq_000150.jpg', 'seq_000151.jpg', 'seq_000152.jpg', 'seq_000153.jpg', 'seq_000154.jpg', 'seq_000155.jpg', 'seq_000156.jpg', 'seq_000157.jpg', 'seq_000158.jpg', 'seq_000159.jpg', 'seq_000160.jpg', 'seq_000161.jpg', 'seq_000162.jpg', 'seq_000163.jpg', 'seq_000164.jpg', 'seq_000165.jpg', 'seq_000166.jpg', 'seq_000167.jpg', 'seq_000168.jpg', 'seq_000169.jpg', 'seq_000170.jpg', 'seq_000171.jpg', 'seq_000172.jpg', 'seq_000173.jpg', 'seq_000174.jpg', 'seq_000175.jpg', 'seq_000176.jpg', 'seq_000177.jpg', 'seq_000178.jpg', 'seq_000179.jpg', 'seq_000180.jpg', 'seq_000181.jpg', 'seq_000182.jpg', 'seq_000183.jpg', 'seq_000184.jpg', 'seq_000185.jpg', 'seq_000186.jpg', 'seq_000187.jpg', 'seq_000188.jpg', 'seq_000189.jpg', 'seq_000190.jpg', 'seq_000191.jpg', 'seq_000192.jpg', 'seq_000193.jpg', 'seq_000194.jpg', 'seq_000195.jpg', 'seq_000196.jpg', 'seq_000197.jpg', 'seq_000198.jpg', 'seq_000199.jpg', 'seq_000200.jpg', 'seq_000201.jpg', 'seq_000202.jpg', 'seq_000203.jpg', 'seq_000204.jpg', 'seq_000205.jpg', 'seq_000206.jpg', 'seq_000207.jpg', 'seq_000208.jpg', 'seq_000209.jpg', 'seq_000210.jpg', 'seq_000211.jpg', 'seq_000212.jpg', 'seq_000213.jpg', 'seq_000214.jpg', 'seq_000215.jpg', 'seq_000216.jpg', 'seq_000217.jpg', 'seq_000218.jpg', 'seq_000219.jpg', 'seq_000220.jpg', 'seq_000221.jpg', 'seq_000222.jpg', 'seq_000223.jpg', 'seq_000224.jpg', 'seq_000225.jpg', 'seq_000226.jpg', 'seq_000227.jpg', 'seq_000228.jpg', 'seq_000229.jpg', 'seq_000230.jpg', 'seq_000231.jpg', 'seq_000232.jpg', 'seq_000233.jpg', 'seq_000234.jpg', 'seq_000235.jpg', 'seq_000236.jpg', 'seq_000237.jpg', 'seq_000238.jpg', 'seq_000239.jpg', 'seq_000240.jpg', 'seq_000241.jpg', 'seq_000242.jpg', 'seq_000243.jpg', 'seq_000244.jpg', 'seq_000245.jpg', 'seq_000246.jpg', 'seq_000247.jpg', 'seq_000248.jpg', 'seq_000249.jpg', 'seq_000250.jpg', 'seq_000251.jpg', 'seq_000252.jpg', 'seq_000253.jpg', 'seq_000254.jpg', 'seq_000255.jpg', 'seq_000256.jpg', 'seq_000257.jpg', 'seq_000258.jpg', 'seq_000259.jpg', 'seq_000260.jpg', 'seq_000261.jpg', 'seq_000262.jpg', 'seq_000263.jpg', 'seq_000264.jpg', 'seq_000265.jpg', 'seq_000266.jpg', 'seq_000267.jpg', 'seq_000268.jpg', 'seq_000269.jpg', 'seq_000270.jpg', 'seq_000271.jpg', 'seq_000272.jpg', 'seq_000273.jpg', 'seq_000274.jpg', 'seq_000275.jpg', 'seq_000276.jpg', 'seq_000277.jpg', 'seq_000278.jpg', 'seq_000279.jpg', 'seq_000280.jpg', 'seq_000281.jpg', 'seq_000282.jpg', 'seq_000283.jpg', 'seq_000284.jpg', 'seq_000285.jpg', 'seq_000286.jpg', 'seq_000287.jpg', 'seq_000288.jpg', 'seq_000289.jpg', 'seq_000290.jpg', 'seq_000291.jpg', 'seq_000292.jpg', 'seq_000293.jpg', 'seq_000294.jpg', 'seq_000295.jpg', 'seq_000296.jpg', 'seq_000297.jpg', 'seq_000298.jpg', 'seq_000299.jpg', 'seq_000300.jpg', 'seq_000301.jpg', 'seq_000302.jpg', 'seq_000303.jpg', 'seq_000304.jpg', 'seq_000305.jpg', 'seq_000306.jpg', 'seq_000307.jpg', 'seq_000308.jpg', 'seq_000309.jpg', 'seq_000310.jpg', 'seq_000311.jpg', 'seq_000312.jpg', 'seq_000313.jpg', 'seq_000314.jpg', 'seq_000315.jpg', 'seq_000316.jpg', 'seq_000317.jpg', 'seq_000318.jpg', 'seq_000319.jpg', 'seq_000320.jpg', 'seq_000321.jpg', 'seq_000322.jpg', 'seq_000323.jpg', 'seq_000324.jpg', 'seq_000325.jpg', 'seq_000326.jpg', 'seq_000327.jpg', 'seq_000328.jpg', 'seq_000329.jpg', 'seq_000330.jpg', 'seq_000331.jpg', 'seq_000332.jpg', 'seq_000333.jpg', 'seq_000334.jpg', 'seq_000335.jpg', 'seq_000336.jpg', 'seq_000337.jpg', 'seq_000338.jpg', 'seq_000339.jpg', 'seq_000340.jpg', 'seq_000341.jpg', 'seq_000342.jpg', 'seq_000343.jpg', 'seq_000344.jpg', 'seq_000345.jpg', 'seq_000346.jpg', 'seq_000347.jpg', 'seq_000348.jpg', 'seq_000349.jpg', 'seq_000350.jpg', 'seq_000351.jpg', 'seq_000352.jpg', 'seq_000353.jpg', 'seq_000354.jpg', 'seq_000355.jpg', 'seq_000356.jpg', 'seq_000357.jpg', 'seq_000358.jpg', 'seq_000359.jpg', 'seq_000360.jpg', 'seq_000361.jpg', 'seq_000362.jpg', 'seq_000363.jpg', 'seq_000364.jpg', 'seq_000365.jpg', 'seq_000366.jpg', 'seq_000367.jpg', 'seq_000368.jpg', 'seq_000369.jpg', 'seq_000370.jpg', 'seq_000371.jpg', 'seq_000372.jpg', 'seq_000373.jpg', 'seq_000374.jpg', 'seq_000375.jpg', 'seq_000376.jpg', 'seq_000377.jpg', 'seq_000378.jpg', 'seq_000379.jpg', 'seq_000380.jpg', 'seq_000381.jpg', 'seq_000382.jpg', 'seq_000383.jpg', 'seq_000384.jpg', 'seq_000385.jpg', 'seq_000386.jpg', 'seq_000387.jpg', 'seq_000388.jpg', 'seq_000389.jpg', 'seq_000390.jpg', 'seq_000391.jpg', 'seq_000392.jpg', 'seq_000393.jpg', 'seq_000394.jpg', 'seq_000395.jpg', 'seq_000396.jpg', 'seq_000397.jpg', 'seq_000398.jpg', 'seq_000399.jpg', 'seq_000400.jpg', 'seq_000401.jpg', 'seq_000402.jpg', 'seq_000403.jpg', 'seq_000404.jpg', 'seq_000405.jpg', 'seq_000406.jpg', 'seq_000407.jpg', 'seq_000408.jpg', 'seq_000409.jpg', 'seq_000410.jpg', 'seq_000411.jpg', 'seq_000412.jpg', 'seq_000413.jpg', 'seq_000414.jpg', 'seq_000415.jpg', 'seq_000416.jpg', 'seq_000417.jpg', 'seq_000418.jpg', 'seq_000419.jpg', 'seq_000420.jpg', 'seq_000421.jpg', 'seq_000422.jpg', 'seq_000423.jpg', 'seq_000424.jpg', 'seq_000425.jpg', 'seq_000426.jpg', 'seq_000427.jpg', 'seq_000428.jpg', 'seq_000429.jpg', 'seq_000430.jpg', 'seq_000431.jpg', 'seq_000432.jpg', 'seq_000433.jpg', 'seq_000434.jpg', 'seq_000435.jpg', 'seq_000436.jpg', 'seq_000437.jpg', 'seq_000438.jpg', 'seq_000439.jpg', 'seq_000440.jpg', 'seq_000441.jpg', 'seq_000442.jpg', 'seq_000443.jpg', 'seq_000444.jpg', 'seq_000445.jpg', 'seq_000446.jpg', 'seq_000447.jpg', 'seq_000448.jpg', 'seq_000449.jpg', 'seq_000450.jpg', 'seq_000451.jpg', 'seq_000452.jpg', 'seq_000453.jpg', 'seq_000454.jpg', 'seq_000455.jpg', 'seq_000456.jpg', 'seq_000457.jpg', 'seq_000458.jpg', 'seq_000459.jpg', 'seq_000460.jpg', 'seq_000461.jpg', 'seq_000462.jpg', 'seq_000463.jpg', 'seq_000464.jpg', 'seq_000465.jpg', 'seq_000466.jpg', 'seq_000467.jpg', 'seq_000468.jpg', 'seq_000469.jpg', 'seq_000470.jpg', 'seq_000471.jpg', 'seq_000472.jpg', 'seq_000473.jpg', 'seq_000474.jpg', 'seq_000475.jpg', 'seq_000476.jpg', 'seq_000477.jpg', 'seq_000478.jpg', 'seq_000479.jpg', 'seq_000480.jpg', 'seq_000481.jpg', 'seq_000482.jpg', 'seq_000483.jpg', 'seq_000484.jpg', 'seq_000485.jpg', 'seq_000486.jpg', 'seq_000487.jpg', 'seq_000488.jpg', 'seq_000489.jpg', 'seq_000490.jpg', 'seq_000491.jpg', 'seq_000492.jpg', 'seq_000493.jpg', 'seq_000494.jpg', 'seq_000495.jpg', 'seq_000496.jpg', 'seq_000497.jpg', 'seq_000498.jpg', 'seq_000499.jpg', 'seq_000500.jpg', 'seq_000501.jpg', 'seq_000502.jpg', 'seq_000503.jpg', 'seq_000504.jpg', 'seq_000505.jpg', 'seq_000506.jpg', 'seq_000507.jpg', 'seq_000508.jpg', 'seq_000509.jpg', 'seq_000510.jpg', 'seq_000511.jpg', 'seq_000512.jpg', 'seq_000513.jpg', 'seq_000514.jpg', 'seq_000515.jpg', 'seq_000516.jpg', 'seq_000517.jpg', 'seq_000518.jpg', 'seq_000519.jpg', 'seq_000520.jpg', 'seq_000521.jpg', 'seq_000522.jpg', 'seq_000523.jpg', 'seq_000524.jpg', 'seq_000525.jpg', 'seq_000526.jpg', 'seq_000527.jpg', 'seq_000528.jpg', 'seq_000529.jpg', 'seq_000530.jpg', 'seq_000531.jpg', 'seq_000532.jpg', 'seq_000533.jpg', 'seq_000534.jpg', 'seq_000535.jpg', 'seq_000536.jpg', 'seq_000537.jpg', 'seq_000538.jpg', 'seq_000539.jpg', 'seq_000540.jpg', 'seq_000541.jpg', 'seq_000542.jpg', 'seq_000543.jpg', 'seq_000544.jpg', 'seq_000545.jpg', 'seq_000546.jpg', 'seq_000547.jpg', 'seq_000548.jpg', 'seq_000549.jpg', 'seq_000550.jpg', 'seq_000551.jpg', 'seq_000552.jpg', 'seq_000553.jpg', 'seq_000554.jpg', 'seq_000555.jpg', 'seq_000556.jpg', 'seq_000557.jpg', 'seq_000558.jpg', 'seq_000559.jpg', 'seq_000560.jpg', 'seq_000561.jpg', 'seq_000562.jpg', 'seq_000563.jpg', 'seq_000564.jpg', 'seq_000565.jpg', 'seq_000566.jpg', 'seq_000567.jpg', 'seq_000568.jpg', 'seq_000569.jpg', 'seq_000570.jpg', 'seq_000571.jpg', 'seq_000572.jpg', 'seq_000573.jpg', 'seq_000574.jpg', 'seq_000575.jpg', 'seq_000576.jpg', 'seq_000577.jpg', 'seq_000578.jpg', 'seq_000579.jpg', 'seq_000580.jpg', 'seq_000581.jpg', 'seq_000582.jpg', 'seq_000583.jpg', 'seq_000584.jpg', 'seq_000585.jpg', 'seq_000586.jpg', 'seq_000587.jpg', 'seq_000588.jpg', 'seq_000589.jpg', 'seq_000590.jpg', 'seq_000591.jpg', 'seq_000592.jpg', 'seq_000593.jpg', 'seq_000594.jpg', 'seq_000595.jpg', 'seq_000596.jpg', 'seq_000597.jpg', 'seq_000598.jpg', 'seq_000599.jpg', 'seq_000600.jpg', 'seq_000601.jpg', 'seq_000602.jpg', 'seq_000603.jpg', 'seq_000604.jpg', 'seq_000605.jpg', 'seq_000606.jpg', 'seq_000607.jpg', 'seq_000608.jpg', 'seq_000609.jpg', 'seq_000610.jpg', 'seq_000611.jpg', 'seq_000612.jpg', 'seq_000613.jpg', 'seq_000614.jpg', 'seq_000615.jpg', 'seq_000616.jpg', 'seq_000617.jpg', 'seq_000618.jpg', 'seq_000619.jpg', 'seq_000620.jpg', 'seq_000621.jpg', 'seq_000622.jpg', 'seq_000623.jpg', 'seq_000624.jpg', 'seq_000625.jpg', 'seq_000626.jpg', 'seq_000627.jpg', 'seq_000628.jpg', 'seq_000629.jpg', 'seq_000630.jpg', 'seq_000631.jpg', 'seq_000632.jpg', 'seq_000633.jpg', 'seq_000634.jpg', 'seq_000635.jpg', 'seq_000636.jpg', 'seq_000637.jpg', 'seq_000638.jpg', 'seq_000639.jpg', 'seq_000640.jpg', 'seq_000641.jpg', 'seq_000642.jpg', 'seq_000643.jpg', 'seq_000644.jpg', 'seq_000645.jpg', 'seq_000646.jpg', 'seq_000647.jpg', 'seq_000648.jpg', 'seq_000649.jpg', 'seq_000650.jpg', 'seq_000651.jpg', 'seq_000652.jpg', 'seq_000653.jpg', 'seq_000654.jpg', 'seq_000655.jpg', 'seq_000656.jpg', 'seq_000657.jpg', 'seq_000658.jpg', 'seq_000659.jpg', 'seq_000660.jpg', 'seq_000661.jpg', 'seq_000662.jpg', 'seq_000663.jpg', 'seq_000664.jpg', 'seq_000665.jpg', 'seq_000666.jpg', 'seq_000667.jpg', 'seq_000668.jpg', 'seq_000669.jpg', 'seq_000670.jpg', 'seq_000671.jpg', 'seq_000672.jpg', 'seq_000673.jpg', 'seq_000674.jpg', 'seq_000675.jpg', 'seq_000676.jpg', 'seq_000677.jpg', 'seq_000678.jpg', 'seq_000679.jpg', 'seq_000680.jpg', 'seq_000681.jpg', 'seq_000682.jpg', 'seq_000683.jpg', 'seq_000684.jpg', 'seq_000685.jpg', 'seq_000686.jpg', 'seq_000687.jpg', 'seq_000688.jpg', 'seq_000689.jpg', 'seq_000690.jpg', 'seq_000691.jpg', 'seq_000692.jpg', 'seq_000693.jpg', 'seq_000694.jpg', 'seq_000695.jpg', 'seq_000696.jpg', 'seq_000697.jpg', 'seq_000698.jpg', 'seq_000699.jpg', 'seq_000700.jpg', 'seq_000701.jpg', 'seq_000702.jpg', 'seq_000703.jpg', 'seq_000704.jpg', 'seq_000705.jpg', 'seq_000706.jpg', 'seq_000707.jpg', 'seq_000708.jpg', 'seq_000709.jpg', 'seq_000710.jpg', 'seq_000711.jpg', 'seq_000712.jpg', 'seq_000713.jpg', 'seq_000714.jpg', 'seq_000715.jpg', 'seq_000716.jpg', 'seq_000717.jpg', 'seq_000718.jpg', 'seq_000719.jpg', 'seq_000720.jpg', 'seq_000721.jpg', 'seq_000722.jpg', 'seq_000723.jpg', 'seq_000724.jpg', 'seq_000725.jpg', 'seq_000726.jpg', 'seq_000727.jpg', 'seq_000728.jpg', 'seq_000729.jpg', 'seq_000730.jpg', 'seq_000731.jpg', 'seq_000732.jpg', 'seq_000733.jpg', 'seq_000734.jpg', 'seq_000735.jpg', 'seq_000736.jpg', 'seq_000737.jpg', 'seq_000738.jpg', 'seq_000739.jpg', 'seq_000740.jpg', 'seq_000741.jpg', 'seq_000742.jpg', 'seq_000743.jpg', 'seq_000744.jpg', 'seq_000745.jpg', 'seq_000746.jpg', 'seq_000747.jpg', 'seq_000748.jpg', 'seq_000749.jpg', 'seq_000750.jpg', 'seq_000751.jpg', 'seq_000752.jpg', 'seq_000753.jpg', 'seq_000754.jpg', 'seq_000755.jpg', 'seq_000756.jpg', 'seq_000757.jpg', 'seq_000758.jpg', 'seq_000759.jpg', 'seq_000760.jpg', 'seq_000761.jpg', 'seq_000762.jpg', 'seq_000763.jpg', 'seq_000764.jpg', 'seq_000765.jpg', 'seq_000766.jpg', 'seq_000767.jpg', 'seq_000768.jpg', 'seq_000769.jpg', 'seq_000770.jpg', 'seq_000771.jpg', 'seq_000772.jpg', 'seq_000773.jpg', 'seq_000774.jpg', 'seq_000775.jpg', 'seq_000776.jpg', 'seq_000777.jpg', 'seq_000778.jpg', 'seq_000779.jpg', 'seq_000780.jpg', 'seq_000781.jpg', 'seq_000782.jpg', 'seq_000783.jpg', 'seq_000784.jpg', 'seq_000785.jpg', 'seq_000786.jpg', 'seq_000787.jpg', 'seq_000788.jpg', 'seq_000789.jpg', 'seq_000790.jpg', 'seq_000791.jpg', 'seq_000792.jpg', 'seq_000793.jpg', 'seq_000794.jpg', 'seq_000795.jpg', 'seq_000796.jpg', 'seq_000797.jpg', 'seq_000798.jpg', 'seq_000799.jpg', 'seq_000800.jpg', 'seq_000801.jpg', 'seq_000802.jpg', 'seq_000803.jpg', 'seq_000804.jpg', 'seq_000805.jpg', 'seq_000806.jpg', 'seq_000807.jpg', 'seq_000808.jpg', 'seq_000809.jpg', 'seq_000810.jpg', 'seq_000811.jpg', 'seq_000812.jpg', 'seq_000813.jpg', 'seq_000814.jpg', 'seq_000815.jpg', 'seq_000816.jpg', 'seq_000817.jpg', 'seq_000818.jpg', 'seq_000819.jpg', 'seq_000820.jpg', 'seq_000821.jpg', 'seq_000822.jpg', 'seq_000823.jpg', 'seq_000824.jpg', 'seq_000825.jpg', 'seq_000826.jpg', 'seq_000827.jpg', 'seq_000828.jpg', 'seq_000829.jpg', 'seq_000830.jpg', 'seq_000831.jpg', 'seq_000832.jpg', 'seq_000833.jpg', 'seq_000834.jpg', 'seq_000835.jpg', 'seq_000836.jpg', 'seq_000837.jpg', 'seq_000838.jpg', 'seq_000839.jpg', 'seq_000840.jpg', 'seq_000841.jpg', 'seq_000842.jpg', 'seq_000843.jpg', 'seq_000844.jpg', 'seq_000845.jpg', 'seq_000846.jpg', 'seq_000847.jpg', 'seq_000848.jpg', 'seq_000849.jpg', 'seq_000850.jpg', 'seq_000851.jpg', 'seq_000852.jpg', 'seq_000853.jpg', 'seq_000854.jpg', 'seq_000855.jpg', 'seq_000856.jpg', 'seq_000857.jpg', 'seq_000858.jpg', 'seq_000859.jpg', 'seq_000860.jpg', 'seq_000861.jpg', 'seq_000862.jpg', 'seq_000863.jpg', 'seq_000864.jpg', 'seq_000865.jpg', 'seq_000866.jpg', 'seq_000867.jpg', 'seq_000868.jpg', 'seq_000869.jpg', 'seq_000870.jpg', 'seq_000871.jpg', 'seq_000872.jpg', 'seq_000873.jpg', 'seq_000874.jpg', 'seq_000875.jpg', 'seq_000876.jpg', 'seq_000877.jpg', 'seq_000878.jpg', 'seq_000879.jpg', 'seq_000880.jpg', 'seq_000881.jpg', 'seq_000882.jpg', 'seq_000883.jpg', 'seq_000884.jpg', 'seq_000885.jpg', 'seq_000886.jpg', 'seq_000887.jpg', 'seq_000888.jpg', 'seq_000889.jpg', 'seq_000890.jpg', 'seq_000891.jpg', 'seq_000892.jpg', 'seq_000893.jpg', 'seq_000894.jpg', 'seq_000895.jpg', 'seq_000896.jpg', 'seq_000897.jpg', 'seq_000898.jpg', 'seq_000899.jpg', 'seq_000900.jpg', 'seq_000901.jpg', 'seq_000902.jpg', 'seq_000903.jpg', 'seq_000904.jpg', 'seq_000905.jpg', 'seq_000906.jpg', 'seq_000907.jpg', 'seq_000908.jpg', 'seq_000909.jpg', 'seq_000910.jpg', 'seq_000911.jpg', 'seq_000912.jpg', 'seq_000913.jpg', 'seq_000914.jpg', 'seq_000915.jpg', 'seq_000916.jpg', 'seq_000917.jpg', 'seq_000918.jpg', 'seq_000919.jpg', 'seq_000920.jpg', 'seq_000921.jpg', 'seq_000922.jpg', 'seq_000923.jpg', 'seq_000924.jpg', 'seq_000925.jpg', 'seq_000926.jpg', 'seq_000927.jpg', 'seq_000928.jpg', 'seq_000929.jpg', 'seq_000930.jpg', 'seq_000931.jpg', 'seq_000932.jpg', 'seq_000933.jpg', 'seq_000934.jpg', 'seq_000935.jpg', 'seq_000936.jpg', 'seq_000937.jpg', 'seq_000938.jpg', 'seq_000939.jpg', 'seq_000940.jpg', 'seq_000941.jpg', 'seq_000942.jpg', 'seq_000943.jpg', 'seq_000944.jpg', 'seq_000945.jpg', 'seq_000946.jpg', 'seq_000947.jpg', 'seq_000948.jpg', 'seq_000949.jpg', 'seq_000950.jpg', 'seq_000951.jpg', 'seq_000952.jpg', 'seq_000953.jpg', 'seq_000954.jpg', 'seq_000955.jpg', 'seq_000956.jpg', 'seq_000957.jpg', 'seq_000958.jpg', 'seq_000959.jpg', 'seq_000960.jpg', 'seq_000961.jpg', 'seq_000962.jpg', 'seq_000963.jpg', 'seq_000964.jpg', 'seq_000965.jpg', 'seq_000966.jpg', 'seq_000967.jpg', 'seq_000968.jpg', 'seq_000969.jpg', 'seq_000970.jpg', 'seq_000971.jpg', 'seq_000972.jpg', 'seq_000973.jpg', 'seq_000974.jpg', 'seq_000975.jpg', 'seq_000976.jpg', 'seq_000977.jpg', 'seq_000978.jpg', 'seq_000979.jpg', 'seq_000980.jpg', 'seq_000981.jpg', 'seq_000982.jpg', 'seq_000983.jpg', 'seq_000984.jpg', 'seq_000985.jpg', 'seq_000986.jpg', 'seq_000987.jpg', 'seq_000988.jpg', 'seq_000989.jpg', 'seq_000990.jpg', 'seq_000991.jpg', 'seq_000992.jpg', 'seq_000993.jpg', 'seq_000994.jpg', 'seq_000995.jpg', 'seq_000996.jpg', 'seq_000997.jpg', 'seq_000998.jpg', 'seq_000999.jpg', 'seq_001000.jpg', 'seq_001001.jpg', 'seq_001002.jpg', 'seq_001003.jpg', 'seq_001004.jpg', 'seq_001005.jpg', 'seq_001006.jpg', 'seq_001007.jpg', 'seq_001008.jpg', 'seq_001009.jpg', 'seq_001010.jpg', 'seq_001011.jpg', 'seq_001012.jpg', 'seq_001013.jpg', 'seq_001014.jpg', 'seq_001015.jpg', 'seq_001016.jpg', 'seq_001017.jpg', 'seq_001018.jpg', 'seq_001019.jpg', 'seq_001020.jpg', 'seq_001021.jpg', 'seq_001022.jpg', 'seq_001023.jpg', 'seq_001024.jpg', 'seq_001025.jpg', 'seq_001026.jpg', 'seq_001027.jpg', 'seq_001028.jpg', 'seq_001029.jpg', 'seq_001030.jpg', 'seq_001031.jpg', 'seq_001032.jpg', 'seq_001033.jpg', 'seq_001034.jpg', 'seq_001035.jpg', 'seq_001036.jpg', 'seq_001037.jpg', 'seq_001038.jpg', 'seq_001039.jpg', 'seq_001040.jpg', 'seq_001041.jpg', 'seq_001042.jpg', 'seq_001043.jpg', 'seq_001044.jpg', 'seq_001045.jpg', 'seq_001046.jpg', 'seq_001047.jpg', 'seq_001048.jpg', 'seq_001049.jpg', 'seq_001050.jpg', 'seq_001051.jpg', 'seq_001052.jpg', 'seq_001053.jpg', 'seq_001054.jpg', 'seq_001055.jpg', 'seq_001056.jpg', 'seq_001057.jpg', 'seq_001058.jpg', 'seq_001059.jpg', 'seq_001060.jpg', 'seq_001061.jpg', 'seq_001062.jpg', 'seq_001063.jpg', 'seq_001064.jpg', 'seq_001065.jpg', 'seq_001066.jpg', 'seq_001067.jpg', 'seq_001068.jpg', 'seq_001069.jpg', 'seq_001070.jpg', 'seq_001071.jpg', 'seq_001072.jpg', 'seq_001073.jpg', 'seq_001074.jpg', 'seq_001075.jpg', 'seq_001076.jpg', 'seq_001077.jpg', 'seq_001078.jpg', 'seq_001079.jpg', 'seq_001080.jpg', 'seq_001081.jpg', 'seq_001082.jpg', 'seq_001083.jpg', 'seq_001084.jpg', 'seq_001085.jpg', 'seq_001086.jpg', 'seq_001087.jpg', 'seq_001088.jpg', 'seq_001089.jpg', 'seq_001090.jpg', 'seq_001091.jpg', 'seq_001092.jpg', 'seq_001093.jpg', 'seq_001094.jpg', 'seq_001095.jpg', 'seq_001096.jpg', 'seq_001097.jpg', 'seq_001098.jpg', 'seq_001099.jpg', 'seq_001100.jpg', 'seq_001101.jpg', 'seq_001102.jpg', 'seq_001103.jpg', 'seq_001104.jpg', 'seq_001105.jpg', 'seq_001106.jpg', 'seq_001107.jpg', 'seq_001108.jpg', 'seq_001109.jpg', 'seq_001110.jpg', 'seq_001111.jpg', 'seq_001112.jpg', 'seq_001113.jpg', 'seq_001114.jpg', 'seq_001115.jpg', 'seq_001116.jpg', 'seq_001117.jpg', 'seq_001118.jpg', 'seq_001119.jpg', 'seq_001120.jpg', 'seq_001121.jpg', 'seq_001122.jpg', 'seq_001123.jpg', 'seq_001124.jpg', 'seq_001125.jpg', 'seq_001126.jpg', 'seq_001127.jpg', 'seq_001128.jpg', 'seq_001129.jpg', 'seq_001130.jpg', 'seq_001131.jpg', 'seq_001132.jpg', 'seq_001133.jpg', 'seq_001134.jpg', 'seq_001135.jpg', 'seq_001136.jpg', 'seq_001137.jpg', 'seq_001138.jpg', 'seq_001139.jpg', 'seq_001140.jpg', 'seq_001141.jpg', 'seq_001142.jpg', 'seq_001143.jpg', 'seq_001144.jpg', 'seq_001145.jpg', 'seq_001146.jpg', 'seq_001147.jpg', 'seq_001148.jpg', 'seq_001149.jpg', 'seq_001150.jpg', 'seq_001151.jpg', 'seq_001152.jpg', 'seq_001153.jpg', 'seq_001154.jpg', 'seq_001155.jpg', 'seq_001156.jpg', 'seq_001157.jpg', 'seq_001158.jpg', 'seq_001159.jpg', 'seq_001160.jpg', 'seq_001161.jpg', 'seq_001162.jpg', 'seq_001163.jpg', 'seq_001164.jpg', 'seq_001165.jpg', 'seq_001166.jpg', 'seq_001167.jpg', 'seq_001168.jpg', 'seq_001169.jpg', 'seq_001170.jpg', 'seq_001171.jpg', 'seq_001172.jpg', 'seq_001173.jpg', 'seq_001174.jpg', 'seq_001175.jpg', 'seq_001176.jpg', 'seq_001177.jpg', 'seq_001178.jpg', 'seq_001179.jpg', 'seq_001180.jpg', 'seq_001181.jpg', 'seq_001182.jpg', 'seq_001183.jpg', 'seq_001184.jpg', 'seq_001185.jpg', 'seq_001186.jpg', 'seq_001187.jpg', 'seq_001188.jpg', 'seq_001189.jpg', 'seq_001190.jpg', 'seq_001191.jpg', 'seq_001192.jpg', 'seq_001193.jpg', 'seq_001194.jpg', 'seq_001195.jpg', 'seq_001196.jpg', 'seq_001197.jpg', 'seq_001198.jpg', 'seq_001199.jpg', 'seq_001200.jpg', 'seq_001201.jpg', 'seq_001202.jpg', 'seq_001203.jpg', 'seq_001204.jpg', 'seq_001205.jpg', 'seq_001206.jpg', 'seq_001207.jpg', 'seq_001208.jpg', 'seq_001209.jpg', 'seq_001210.jpg', 'seq_001211.jpg', 'seq_001212.jpg', 'seq_001213.jpg', 'seq_001214.jpg', 'seq_001215.jpg', 'seq_001216.jpg', 'seq_001217.jpg', 'seq_001218.jpg', 'seq_001219.jpg', 'seq_001220.jpg', 'seq_001221.jpg', 'seq_001222.jpg', 'seq_001223.jpg', 'seq_001224.jpg', 'seq_001225.jpg', 'seq_001226.jpg', 'seq_001227.jpg', 'seq_001228.jpg', 'seq_001229.jpg', 'seq_001230.jpg', 'seq_001231.jpg', 'seq_001232.jpg', 'seq_001233.jpg', 'seq_001234.jpg', 'seq_001235.jpg', 'seq_001236.jpg', 'seq_001237.jpg', 'seq_001238.jpg', 'seq_001239.jpg', 'seq_001240.jpg', 'seq_001241.jpg', 'seq_001242.jpg', 'seq_001243.jpg', 'seq_001244.jpg', 'seq_001245.jpg', 'seq_001246.jpg', 'seq_001247.jpg', 'seq_001248.jpg', 'seq_001249.jpg', 'seq_001250.jpg', 'seq_001251.jpg', 'seq_001252.jpg', 'seq_001253.jpg', 'seq_001254.jpg', 'seq_001255.jpg', 'seq_001256.jpg', 'seq_001257.jpg', 'seq_001258.jpg', 'seq_001259.jpg', 'seq_001260.jpg', 'seq_001261.jpg', 'seq_001262.jpg', 'seq_001263.jpg', 'seq_001264.jpg', 'seq_001265.jpg', 'seq_001266.jpg', 'seq_001267.jpg', 'seq_001268.jpg', 'seq_001269.jpg', 'seq_001270.jpg', 'seq_001271.jpg', 'seq_001272.jpg', 'seq_001273.jpg', 'seq_001274.jpg', 'seq_001275.jpg', 'seq_001276.jpg', 'seq_001277.jpg', 'seq_001278.jpg', 'seq_001279.jpg', 'seq_001280.jpg', 'seq_001281.jpg', 'seq_001282.jpg', 'seq_001283.jpg', 'seq_001284.jpg', 'seq_001285.jpg', 'seq_001286.jpg', 'seq_001287.jpg', 'seq_001288.jpg', 'seq_001289.jpg', 'seq_001290.jpg', 'seq_001291.jpg', 'seq_001292.jpg', 'seq_001293.jpg', 'seq_001294.jpg', 'seq_001295.jpg', 'seq_001296.jpg', 'seq_001297.jpg', 'seq_001298.jpg', 'seq_001299.jpg', 'seq_001300.jpg', 'seq_001301.jpg', 'seq_001302.jpg', 'seq_001303.jpg', 'seq_001304.jpg', 'seq_001305.jpg', 'seq_001306.jpg', 'seq_001307.jpg', 'seq_001308.jpg', 'seq_001309.jpg', 'seq_001310.jpg', 'seq_001311.jpg', 'seq_001312.jpg', 'seq_001313.jpg', 'seq_001314.jpg', 'seq_001315.jpg', 'seq_001316.jpg', 'seq_001317.jpg', 'seq_001318.jpg', 'seq_001319.jpg', 'seq_001320.jpg', 'seq_001321.jpg', 'seq_001322.jpg', 'seq_001323.jpg', 'seq_001324.jpg', 'seq_001325.jpg', 'seq_001326.jpg', 'seq_001327.jpg', 'seq_001328.jpg', 'seq_001329.jpg', 'seq_001330.jpg', 'seq_001331.jpg', 'seq_001332.jpg', 'seq_001333.jpg', 'seq_001334.jpg', 'seq_001335.jpg', 'seq_001336.jpg', 'seq_001337.jpg', 'seq_001338.jpg', 'seq_001339.jpg', 'seq_001340.jpg', 'seq_001341.jpg', 'seq_001342.jpg', 'seq_001343.jpg', 'seq_001344.jpg', 'seq_001345.jpg', 'seq_001346.jpg', 'seq_001347.jpg', 'seq_001348.jpg', 'seq_001349.jpg', 'seq_001350.jpg', 'seq_001351.jpg', 'seq_001352.jpg', 'seq_001353.jpg', 'seq_001354.jpg', 'seq_001355.jpg', 'seq_001356.jpg', 'seq_001357.jpg', 'seq_001358.jpg', 'seq_001359.jpg', 'seq_001360.jpg', 'seq_001361.jpg', 'seq_001362.jpg', 'seq_001363.jpg', 'seq_001364.jpg', 'seq_001365.jpg', 'seq_001366.jpg', 'seq_001367.jpg', 'seq_001368.jpg', 'seq_001369.jpg', 'seq_001370.jpg', 'seq_001371.jpg', 'seq_001372.jpg', 'seq_001373.jpg', 'seq_001374.jpg', 'seq_001375.jpg', 'seq_001376.jpg', 'seq_001377.jpg', 'seq_001378.jpg', 'seq_001379.jpg', 'seq_001380.jpg', 'seq_001381.jpg', 'seq_001382.jpg', 'seq_001383.jpg', 'seq_001384.jpg', 'seq_001385.jpg', 'seq_001386.jpg', 'seq_001387.jpg', 'seq_001388.jpg', 'seq_001389.jpg', 'seq_001390.jpg', 'seq_001391.jpg', 'seq_001392.jpg', 'seq_001393.jpg', 'seq_001394.jpg', 'seq_001395.jpg', 'seq_001396.jpg', 'seq_001397.jpg', 'seq_001398.jpg', 'seq_001399.jpg', 'seq_001400.jpg', 'seq_001401.jpg', 'seq_001402.jpg', 'seq_001403.jpg', 'seq_001404.jpg', 'seq_001405.jpg', 'seq_001406.jpg', 'seq_001407.jpg', 'seq_001408.jpg', 'seq_001409.jpg', 'seq_001410.jpg', 'seq_001411.jpg', 'seq_001412.jpg', 'seq_001413.jpg', 'seq_001414.jpg', 'seq_001415.jpg', 'seq_001416.jpg', 'seq_001417.jpg', 'seq_001418.jpg', 'seq_001419.jpg', 'seq_001420.jpg', 'seq_001421.jpg', 'seq_001422.jpg', 'seq_001423.jpg', 'seq_001424.jpg', 'seq_001425.jpg', 'seq_001426.jpg', 'seq_001427.jpg', 'seq_001428.jpg', 'seq_001429.jpg', 'seq_001430.jpg', 'seq_001431.jpg', 'seq_001432.jpg', 'seq_001433.jpg', 'seq_001434.jpg', 'seq_001435.jpg', 'seq_001436.jpg', 'seq_001437.jpg', 'seq_001438.jpg', 'seq_001439.jpg', 'seq_001440.jpg', 'seq_001441.jpg', 'seq_001442.jpg', 'seq_001443.jpg', 'seq_001444.jpg', 'seq_001445.jpg', 'seq_001446.jpg', 'seq_001447.jpg', 'seq_001448.jpg', 'seq_001449.jpg', 'seq_001450.jpg', 'seq_001451.jpg', 'seq_001452.jpg', 'seq_001453.jpg', 'seq_001454.jpg', 'seq_001455.jpg', 'seq_001456.jpg', 'seq_001457.jpg', 'seq_001458.jpg', 'seq_001459.jpg', 'seq_001460.jpg', 'seq_001461.jpg', 'seq_001462.jpg', 'seq_001463.jpg', 'seq_001464.jpg', 'seq_001465.jpg', 'seq_001466.jpg', 'seq_001467.jpg', 'seq_001468.jpg', 'seq_001469.jpg', 'seq_001470.jpg', 'seq_001471.jpg', 'seq_001472.jpg', 'seq_001473.jpg', 'seq_001474.jpg', 'seq_001475.jpg', 'seq_001476.jpg', 'seq_001477.jpg', 'seq_001478.jpg', 'seq_001479.jpg', 'seq_001480.jpg', 'seq_001481.jpg', 'seq_001482.jpg', 'seq_001483.jpg', 'seq_001484.jpg', 'seq_001485.jpg', 'seq_001486.jpg', 'seq_001487.jpg', 'seq_001488.jpg', 'seq_001489.jpg', 'seq_001490.jpg', 'seq_001491.jpg', 'seq_001492.jpg', 'seq_001493.jpg', 'seq_001494.jpg', 'seq_001495.jpg', 'seq_001496.jpg', 'seq_001497.jpg', 'seq_001498.jpg', 'seq_001499.jpg', 'seq_001500.jpg', 'seq_001501.jpg', 'seq_001502.jpg', 'seq_001503.jpg', 'seq_001504.jpg', 'seq_001505.jpg', 'seq_001506.jpg', 'seq_001507.jpg', 'seq_001508.jpg', 'seq_001509.jpg', 'seq_001510.jpg', 'seq_001511.jpg', 'seq_001512.jpg', 'seq_001513.jpg', 'seq_001514.jpg', 'seq_001515.jpg', 'seq_001516.jpg', 'seq_001517.jpg', 'seq_001518.jpg', 'seq_001519.jpg', 'seq_001520.jpg', 'seq_001521.jpg', 'seq_001522.jpg', 'seq_001523.jpg', 'seq_001524.jpg', 'seq_001525.jpg', 'seq_001526.jpg', 'seq_001527.jpg', 'seq_001528.jpg', 'seq_001529.jpg', 'seq_001530.jpg', 'seq_001531.jpg', 'seq_001532.jpg', 'seq_001533.jpg', 'seq_001534.jpg', 'seq_001535.jpg', 'seq_001536.jpg', 'seq_001537.jpg', 'seq_001538.jpg', 'seq_001539.jpg', 'seq_001540.jpg', 'seq_001541.jpg', 'seq_001542.jpg', 'seq_001543.jpg', 'seq_001544.jpg', 'seq_001545.jpg', 'seq_001546.jpg', 'seq_001547.jpg', 'seq_001548.jpg', 'seq_001549.jpg', 'seq_001550.jpg', 'seq_001551.jpg', 'seq_001552.jpg', 'seq_001553.jpg', 'seq_001554.jpg', 'seq_001555.jpg', 'seq_001556.jpg', 'seq_001557.jpg', 'seq_001558.jpg', 'seq_001559.jpg', 'seq_001560.jpg', 'seq_001561.jpg', 'seq_001562.jpg', 'seq_001563.jpg', 'seq_001564.jpg', 'seq_001565.jpg', 'seq_001566.jpg', 'seq_001567.jpg', 'seq_001568.jpg', 'seq_001569.jpg', 'seq_001570.jpg', 'seq_001571.jpg', 'seq_001572.jpg', 'seq_001573.jpg', 'seq_001574.jpg', 'seq_001575.jpg', 'seq_001576.jpg', 'seq_001577.jpg', 'seq_001578.jpg', 'seq_001579.jpg', 'seq_001580.jpg', 'seq_001581.jpg', 'seq_001582.jpg', 'seq_001583.jpg', 'seq_001584.jpg', 'seq_001585.jpg', 'seq_001586.jpg', 'seq_001587.jpg', 'seq_001588.jpg', 'seq_001589.jpg', 'seq_001590.jpg', 'seq_001591.jpg', 'seq_001592.jpg', 'seq_001593.jpg', 'seq_001594.jpg', 'seq_001595.jpg', 'seq_001596.jpg', 'seq_001597.jpg', 'seq_001598.jpg', 'seq_001599.jpg', 'seq_001600.jpg', 'seq_001601.jpg', 'seq_001602.jpg', 'seq_001603.jpg', 'seq_001604.jpg', 'seq_001605.jpg', 'seq_001606.jpg', 'seq_001607.jpg', 'seq_001608.jpg', 'seq_001609.jpg', 'seq_001610.jpg', 'seq_001611.jpg', 'seq_001612.jpg', 'seq_001613.jpg', 'seq_001614.jpg', 'seq_001615.jpg', 'seq_001616.jpg', 'seq_001617.jpg', 'seq_001618.jpg', 'seq_001619.jpg', 'seq_001620.jpg', 'seq_001621.jpg', 'seq_001622.jpg', 'seq_001623.jpg', 'seq_001624.jpg', 'seq_001625.jpg', 'seq_001626.jpg', 'seq_001627.jpg', 'seq_001628.jpg', 'seq_001629.jpg', 'seq_001630.jpg', 'seq_001631.jpg', 'seq_001632.jpg', 'seq_001633.jpg', 'seq_001634.jpg', 'seq_001635.jpg', 'seq_001636.jpg', 'seq_001637.jpg', 'seq_001638.jpg', 'seq_001639.jpg', 'seq_001640.jpg', 'seq_001641.jpg', 'seq_001642.jpg', 'seq_001643.jpg', 'seq_001644.jpg', 'seq_001645.jpg', 'seq_001646.jpg', 'seq_001647.jpg', 'seq_001648.jpg', 'seq_001649.jpg', 'seq_001650.jpg', 'seq_001651.jpg', 'seq_001652.jpg', 'seq_001653.jpg', 'seq_001654.jpg', 'seq_001655.jpg', 'seq_001656.jpg', 'seq_001657.jpg', 'seq_001658.jpg', 'seq_001659.jpg', 'seq_001660.jpg', 'seq_001661.jpg', 'seq_001662.jpg', 'seq_001663.jpg', 'seq_001664.jpg', 'seq_001665.jpg', 'seq_001666.jpg', 'seq_001667.jpg', 'seq_001668.jpg', 'seq_001669.jpg', 'seq_001670.jpg', 'seq_001671.jpg', 'seq_001672.jpg', 'seq_001673.jpg', 'seq_001674.jpg', 'seq_001675.jpg', 'seq_001676.jpg', 'seq_001677.jpg', 'seq_001678.jpg', 'seq_001679.jpg', 'seq_001680.jpg', 'seq_001681.jpg', 'seq_001682.jpg', 'seq_001683.jpg', 'seq_001684.jpg', 'seq_001685.jpg', 'seq_001686.jpg', 'seq_001687.jpg', 'seq_001688.jpg', 'seq_001689.jpg', 'seq_001690.jpg', 'seq_001691.jpg', 'seq_001692.jpg', 'seq_001693.jpg', 'seq_001694.jpg', 'seq_001695.jpg', 'seq_001696.jpg', 'seq_001697.jpg', 'seq_001698.jpg', 'seq_001699.jpg', 'seq_001700.jpg', 'seq_001701.jpg', 'seq_001702.jpg', 'seq_001703.jpg', 'seq_001704.jpg', 'seq_001705.jpg', 'seq_001706.jpg', 'seq_001707.jpg', 'seq_001708.jpg', 'seq_001709.jpg', 'seq_001710.jpg', 'seq_001711.jpg', 'seq_001712.jpg', 'seq_001713.jpg', 'seq_001714.jpg', 'seq_001715.jpg', 'seq_001716.jpg', 'seq_001717.jpg', 'seq_001718.jpg', 'seq_001719.jpg', 'seq_001720.jpg', 'seq_001721.jpg', 'seq_001722.jpg', 'seq_001723.jpg', 'seq_001724.jpg', 'seq_001725.jpg', 'seq_001726.jpg', 'seq_001727.jpg', 'seq_001728.jpg', 'seq_001729.jpg', 'seq_001730.jpg', 'seq_001731.jpg', 'seq_001732.jpg', 'seq_001733.jpg', 'seq_001734.jpg', 'seq_001735.jpg', 'seq_001736.jpg', 'seq_001737.jpg', 'seq_001738.jpg', 'seq_001739.jpg', 'seq_001740.jpg', 'seq_001741.jpg', 'seq_001742.jpg', 'seq_001743.jpg', 'seq_001744.jpg', 'seq_001745.jpg', 'seq_001746.jpg', 'seq_001747.jpg', 'seq_001748.jpg', 'seq_001749.jpg', 'seq_001750.jpg', 'seq_001751.jpg', 'seq_001752.jpg', 'seq_001753.jpg', 'seq_001754.jpg', 'seq_001755.jpg', 'seq_001756.jpg', 'seq_001757.jpg', 'seq_001758.jpg', 'seq_001759.jpg', 'seq_001760.jpg', 'seq_001761.jpg', 'seq_001762.jpg', 'seq_001763.jpg', 'seq_001764.jpg', 'seq_001765.jpg', 'seq_001766.jpg', 'seq_001767.jpg', 'seq_001768.jpg', 'seq_001769.jpg', 'seq_001770.jpg', 'seq_001771.jpg', 'seq_001772.jpg', 'seq_001773.jpg', 'seq_001774.jpg', 'seq_001775.jpg', 'seq_001776.jpg', 'seq_001777.jpg', 'seq_001778.jpg', 'seq_001779.jpg', 'seq_001780.jpg', 'seq_001781.jpg', 'seq_001782.jpg', 'seq_001783.jpg', 'seq_001784.jpg', 'seq_001785.jpg', 'seq_001786.jpg', 'seq_001787.jpg', 'seq_001788.jpg', 'seq_001789.jpg', 'seq_001790.jpg', 'seq_001791.jpg', 'seq_001792.jpg', 'seq_001793.jpg', 'seq_001794.jpg', 'seq_001795.jpg', 'seq_001796.jpg', 'seq_001797.jpg', 'seq_001798.jpg', 'seq_001799.jpg', 'seq_001800.jpg', 'seq_001801.jpg', 'seq_001802.jpg', 'seq_001803.jpg', 'seq_001804.jpg', 'seq_001805.jpg', 'seq_001806.jpg', 'seq_001807.jpg', 'seq_001808.jpg', 'seq_001809.jpg', 'seq_001810.jpg', 'seq_001811.jpg', 'seq_001812.jpg', 'seq_001813.jpg', 'seq_001814.jpg', 'seq_001815.jpg', 'seq_001816.jpg', 'seq_001817.jpg', 'seq_001818.jpg', 'seq_001819.jpg', 'seq_001820.jpg', 'seq_001821.jpg', 'seq_001822.jpg', 'seq_001823.jpg', 'seq_001824.jpg', 'seq_001825.jpg', 'seq_001826.jpg', 'seq_001827.jpg', 'seq_001828.jpg', 'seq_001829.jpg', 'seq_001830.jpg', 'seq_001831.jpg', 'seq_001832.jpg', 'seq_001833.jpg', 'seq_001834.jpg', 'seq_001835.jpg', 'seq_001836.jpg', 'seq_001837.jpg', 'seq_001838.jpg', 'seq_001839.jpg', 'seq_001840.jpg', 'seq_001841.jpg', 'seq_001842.jpg', 'seq_001843.jpg', 'seq_001844.jpg', 'seq_001845.jpg', 'seq_001846.jpg', 'seq_001847.jpg', 'seq_001848.jpg', 'seq_001849.jpg', 'seq_001850.jpg', 'seq_001851.jpg', 'seq_001852.jpg', 'seq_001853.jpg', 'seq_001854.jpg', 'seq_001855.jpg', 'seq_001856.jpg', 'seq_001857.jpg', 'seq_001858.jpg', 'seq_001859.jpg', 'seq_001860.jpg', 'seq_001861.jpg', 'seq_001862.jpg', 'seq_001863.jpg', 'seq_001864.jpg', 'seq_001865.jpg', 'seq_001866.jpg', 'seq_001867.jpg', 'seq_001868.jpg', 'seq_001869.jpg', 'seq_001870.jpg', 'seq_001871.jpg', 'seq_001872.jpg', 'seq_001873.jpg', 'seq_001874.jpg', 'seq_001875.jpg', 'seq_001876.jpg', 'seq_001877.jpg', 'seq_001878.jpg', 'seq_001879.jpg', 'seq_001880.jpg', 'seq_001881.jpg', 'seq_001882.jpg', 'seq_001883.jpg', 'seq_001884.jpg', 'seq_001885.jpg', 'seq_001886.jpg', 'seq_001887.jpg', 'seq_001888.jpg', 'seq_001889.jpg', 'seq_001890.jpg', 'seq_001891.jpg', 'seq_001892.jpg', 'seq_001893.jpg', 'seq_001894.jpg', 'seq_001895.jpg', 'seq_001896.jpg', 'seq_001897.jpg', 'seq_001898.jpg', 'seq_001899.jpg', 'seq_001900.jpg', 'seq_001901.jpg', 'seq_001902.jpg', 'seq_001903.jpg', 'seq_001904.jpg', 'seq_001905.jpg', 'seq_001906.jpg', 'seq_001907.jpg', 'seq_001908.jpg', 'seq_001909.jpg', 'seq_001910.jpg', 'seq_001911.jpg', 'seq_001912.jpg', 'seq_001913.jpg', 'seq_001914.jpg', 'seq_001915.jpg', 'seq_001916.jpg', 'seq_001917.jpg', 'seq_001918.jpg', 'seq_001919.jpg', 'seq_001920.jpg', 'seq_001921.jpg', 'seq_001922.jpg', 'seq_001923.jpg', 'seq_001924.jpg', 'seq_001925.jpg', 'seq_001926.jpg', 'seq_001927.jpg', 'seq_001928.jpg', 'seq_001929.jpg', 'seq_001930.jpg', 'seq_001931.jpg', 'seq_001932.jpg', 'seq_001933.jpg', 'seq_001934.jpg', 'seq_001935.jpg', 'seq_001936.jpg', 'seq_001937.jpg', 'seq_001938.jpg', 'seq_001939.jpg', 'seq_001940.jpg', 'seq_001941.jpg', 'seq_001942.jpg', 'seq_001943.jpg', 'seq_001944.jpg', 'seq_001945.jpg', 'seq_001946.jpg', 'seq_001947.jpg', 'seq_001948.jpg', 'seq_001949.jpg', 'seq_001950.jpg', 'seq_001951.jpg', 'seq_001952.jpg', 'seq_001953.jpg', 'seq_001954.jpg', 'seq_001955.jpg', 'seq_001956.jpg', 'seq_001957.jpg', 'seq_001958.jpg', 'seq_001959.jpg', 'seq_001960.jpg', 'seq_001961.jpg', 'seq_001962.jpg', 'seq_001963.jpg', 'seq_001964.jpg', 'seq_001965.jpg', 'seq_001966.jpg', 'seq_001967.jpg', 'seq_001968.jpg', 'seq_001969.jpg', 'seq_001970.jpg', 'seq_001971.jpg', 'seq_001972.jpg', 'seq_001973.jpg', 'seq_001974.jpg', 'seq_001975.jpg', 'seq_001976.jpg', 'seq_001977.jpg', 'seq_001978.jpg', 'seq_001979.jpg', 'seq_001980.jpg', 'seq_001981.jpg', 'seq_001982.jpg', 'seq_001983.jpg', 'seq_001984.jpg', 'seq_001985.jpg', 'seq_001986.jpg', 'seq_001987.jpg', 'seq_001988.jpg', 'seq_001989.jpg', 'seq_001990.jpg', 'seq_001991.jpg', 'seq_001992.jpg', 'seq_001993.jpg', 'seq_001994.jpg', 'seq_001995.jpg', 'seq_001996.jpg', 'seq_001997.jpg', 'seq_001998.jpg', 'seq_001999.jpg', 'seq_002000.jpg']\n"
          ],
          "name": "stdout"
        }
      ]
    },
    {
      "cell_type": "code",
      "metadata": {
        "id": "XYmbPbdkeds_",
        "colab": {
          "base_uri": "https://localhost:8080/"
        },
        "outputId": "105689de-77dd-4939-cb7b-8c5df967c658"
      },
      "source": [
        "# Inference with a keypoint detection model\r\n",
        "cfg = get_cfg()   # get a fresh new config\r\n",
        "cfg.merge_from_file(model_zoo.get_config_file(\"COCO-Keypoints/keypoint_rcnn_R_50_FPN_3x.yaml\"))\r\n",
        "cfg.MODEL.ROI_HEADS.SCORE_THRESH_TEST = 0.5  # set threshold for this model\r\n",
        "cfg.MODEL.WEIGHTS = model_zoo.get_checkpoint_url(\"COCO-Keypoints/keypoint_rcnn_R_50_FPN_3x.yaml\")\r\n",
        "predictor = DefaultPredictor(cfg)\r\n",
        "\r\n",
        "id = [] # this variable will store id of photo\r\n",
        "count = [] # this variable will store count of human in the photo\r\n",
        "\r\n",
        "for i in range(2000):\r\n",
        "  id.append(i+1)\r\n",
        "  im = cv2.imread(path_frames+my_files[i])\r\n",
        "  outputs = predictor(im)\r\n",
        "  count.append(len(outputs[\"instances\"]))\r\n",
        "\r\n",
        "print(id)\r\n",
        "print(count)"
      ],
      "execution_count": null,
      "outputs": [
        {
          "output_type": "stream",
          "text": [
            "[1, 2, 3, 4, 5, 6, 7, 8, 9, 10, 11, 12, 13, 14, 15, 16, 17, 18, 19, 20, 21, 22, 23, 24, 25, 26, 27, 28, 29, 30, 31, 32, 33, 34, 35, 36, 37, 38, 39, 40, 41, 42, 43, 44, 45, 46, 47, 48, 49, 50, 51, 52, 53, 54, 55, 56, 57, 58, 59, 60, 61, 62, 63, 64, 65, 66, 67, 68, 69, 70, 71, 72, 73, 74, 75, 76, 77, 78, 79, 80, 81, 82, 83, 84, 85, 86, 87, 88, 89, 90, 91, 92, 93, 94, 95, 96, 97, 98, 99, 100, 101, 102, 103, 104, 105, 106, 107, 108, 109, 110, 111, 112, 113, 114, 115, 116, 117, 118, 119, 120, 121, 122, 123, 124, 125, 126, 127, 128, 129, 130, 131, 132, 133, 134, 135, 136, 137, 138, 139, 140, 141, 142, 143, 144, 145, 146, 147, 148, 149, 150, 151, 152, 153, 154, 155, 156, 157, 158, 159, 160, 161, 162, 163, 164, 165, 166, 167, 168, 169, 170, 171, 172, 173, 174, 175, 176, 177, 178, 179, 180, 181, 182, 183, 184, 185, 186, 187, 188, 189, 190, 191, 192, 193, 194, 195, 196, 197, 198, 199, 200, 201, 202, 203, 204, 205, 206, 207, 208, 209, 210, 211, 212, 213, 214, 215, 216, 217, 218, 219, 220, 221, 222, 223, 224, 225, 226, 227, 228, 229, 230, 231, 232, 233, 234, 235, 236, 237, 238, 239, 240, 241, 242, 243, 244, 245, 246, 247, 248, 249, 250, 251, 252, 253, 254, 255, 256, 257, 258, 259, 260, 261, 262, 263, 264, 265, 266, 267, 268, 269, 270, 271, 272, 273, 274, 275, 276, 277, 278, 279, 280, 281, 282, 283, 284, 285, 286, 287, 288, 289, 290, 291, 292, 293, 294, 295, 296, 297, 298, 299, 300, 301, 302, 303, 304, 305, 306, 307, 308, 309, 310, 311, 312, 313, 314, 315, 316, 317, 318, 319, 320, 321, 322, 323, 324, 325, 326, 327, 328, 329, 330, 331, 332, 333, 334, 335, 336, 337, 338, 339, 340, 341, 342, 343, 344, 345, 346, 347, 348, 349, 350, 351, 352, 353, 354, 355, 356, 357, 358, 359, 360, 361, 362, 363, 364, 365, 366, 367, 368, 369, 370, 371, 372, 373, 374, 375, 376, 377, 378, 379, 380, 381, 382, 383, 384, 385, 386, 387, 388, 389, 390, 391, 392, 393, 394, 395, 396, 397, 398, 399, 400, 401, 402, 403, 404, 405, 406, 407, 408, 409, 410, 411, 412, 413, 414, 415, 416, 417, 418, 419, 420, 421, 422, 423, 424, 425, 426, 427, 428, 429, 430, 431, 432, 433, 434, 435, 436, 437, 438, 439, 440, 441, 442, 443, 444, 445, 446, 447, 448, 449, 450, 451, 452, 453, 454, 455, 456, 457, 458, 459, 460, 461, 462, 463, 464, 465, 466, 467, 468, 469, 470, 471, 472, 473, 474, 475, 476, 477, 478, 479, 480, 481, 482, 483, 484, 485, 486, 487, 488, 489, 490, 491, 492, 493, 494, 495, 496, 497, 498, 499, 500, 501, 502, 503, 504, 505, 506, 507, 508, 509, 510, 511, 512, 513, 514, 515, 516, 517, 518, 519, 520, 521, 522, 523, 524, 525, 526, 527, 528, 529, 530, 531, 532, 533, 534, 535, 536, 537, 538, 539, 540, 541, 542, 543, 544, 545, 546, 547, 548, 549, 550, 551, 552, 553, 554, 555, 556, 557, 558, 559, 560, 561, 562, 563, 564, 565, 566, 567, 568, 569, 570, 571, 572, 573, 574, 575, 576, 577, 578, 579, 580, 581, 582, 583, 584, 585, 586, 587, 588, 589, 590, 591, 592, 593, 594, 595, 596, 597, 598, 599, 600, 601, 602, 603, 604, 605, 606, 607, 608, 609, 610, 611, 612, 613, 614, 615, 616, 617, 618, 619, 620, 621, 622, 623, 624, 625, 626, 627, 628, 629, 630, 631, 632, 633, 634, 635, 636, 637, 638, 639, 640, 641, 642, 643, 644, 645, 646, 647, 648, 649, 650, 651, 652, 653, 654, 655, 656, 657, 658, 659, 660, 661, 662, 663, 664, 665, 666, 667, 668, 669, 670, 671, 672, 673, 674, 675, 676, 677, 678, 679, 680, 681, 682, 683, 684, 685, 686, 687, 688, 689, 690, 691, 692, 693, 694, 695, 696, 697, 698, 699, 700, 701, 702, 703, 704, 705, 706, 707, 708, 709, 710, 711, 712, 713, 714, 715, 716, 717, 718, 719, 720, 721, 722, 723, 724, 725, 726, 727, 728, 729, 730, 731, 732, 733, 734, 735, 736, 737, 738, 739, 740, 741, 742, 743, 744, 745, 746, 747, 748, 749, 750, 751, 752, 753, 754, 755, 756, 757, 758, 759, 760, 761, 762, 763, 764, 765, 766, 767, 768, 769, 770, 771, 772, 773, 774, 775, 776, 777, 778, 779, 780, 781, 782, 783, 784, 785, 786, 787, 788, 789, 790, 791, 792, 793, 794, 795, 796, 797, 798, 799, 800, 801, 802, 803, 804, 805, 806, 807, 808, 809, 810, 811, 812, 813, 814, 815, 816, 817, 818, 819, 820, 821, 822, 823, 824, 825, 826, 827, 828, 829, 830, 831, 832, 833, 834, 835, 836, 837, 838, 839, 840, 841, 842, 843, 844, 845, 846, 847, 848, 849, 850, 851, 852, 853, 854, 855, 856, 857, 858, 859, 860, 861, 862, 863, 864, 865, 866, 867, 868, 869, 870, 871, 872, 873, 874, 875, 876, 877, 878, 879, 880, 881, 882, 883, 884, 885, 886, 887, 888, 889, 890, 891, 892, 893, 894, 895, 896, 897, 898, 899, 900, 901, 902, 903, 904, 905, 906, 907, 908, 909, 910, 911, 912, 913, 914, 915, 916, 917, 918, 919, 920, 921, 922, 923, 924, 925, 926, 927, 928, 929, 930, 931, 932, 933, 934, 935, 936, 937, 938, 939, 940, 941, 942, 943, 944, 945, 946, 947, 948, 949, 950, 951, 952, 953, 954, 955, 956, 957, 958, 959, 960, 961, 962, 963, 964, 965, 966, 967, 968, 969, 970, 971, 972, 973, 974, 975, 976, 977, 978, 979, 980, 981, 982, 983, 984, 985, 986, 987, 988, 989, 990, 991, 992, 993, 994, 995, 996, 997, 998, 999, 1000, 1001, 1002, 1003, 1004, 1005, 1006, 1007, 1008, 1009, 1010, 1011, 1012, 1013, 1014, 1015, 1016, 1017, 1018, 1019, 1020, 1021, 1022, 1023, 1024, 1025, 1026, 1027, 1028, 1029, 1030, 1031, 1032, 1033, 1034, 1035, 1036, 1037, 1038, 1039, 1040, 1041, 1042, 1043, 1044, 1045, 1046, 1047, 1048, 1049, 1050, 1051, 1052, 1053, 1054, 1055, 1056, 1057, 1058, 1059, 1060, 1061, 1062, 1063, 1064, 1065, 1066, 1067, 1068, 1069, 1070, 1071, 1072, 1073, 1074, 1075, 1076, 1077, 1078, 1079, 1080, 1081, 1082, 1083, 1084, 1085, 1086, 1087, 1088, 1089, 1090, 1091, 1092, 1093, 1094, 1095, 1096, 1097, 1098, 1099, 1100, 1101, 1102, 1103, 1104, 1105, 1106, 1107, 1108, 1109, 1110, 1111, 1112, 1113, 1114, 1115, 1116, 1117, 1118, 1119, 1120, 1121, 1122, 1123, 1124, 1125, 1126, 1127, 1128, 1129, 1130, 1131, 1132, 1133, 1134, 1135, 1136, 1137, 1138, 1139, 1140, 1141, 1142, 1143, 1144, 1145, 1146, 1147, 1148, 1149, 1150, 1151, 1152, 1153, 1154, 1155, 1156, 1157, 1158, 1159, 1160, 1161, 1162, 1163, 1164, 1165, 1166, 1167, 1168, 1169, 1170, 1171, 1172, 1173, 1174, 1175, 1176, 1177, 1178, 1179, 1180, 1181, 1182, 1183, 1184, 1185, 1186, 1187, 1188, 1189, 1190, 1191, 1192, 1193, 1194, 1195, 1196, 1197, 1198, 1199, 1200, 1201, 1202, 1203, 1204, 1205, 1206, 1207, 1208, 1209, 1210, 1211, 1212, 1213, 1214, 1215, 1216, 1217, 1218, 1219, 1220, 1221, 1222, 1223, 1224, 1225, 1226, 1227, 1228, 1229, 1230, 1231, 1232, 1233, 1234, 1235, 1236, 1237, 1238, 1239, 1240, 1241, 1242, 1243, 1244, 1245, 1246, 1247, 1248, 1249, 1250, 1251, 1252, 1253, 1254, 1255, 1256, 1257, 1258, 1259, 1260, 1261, 1262, 1263, 1264, 1265, 1266, 1267, 1268, 1269, 1270, 1271, 1272, 1273, 1274, 1275, 1276, 1277, 1278, 1279, 1280, 1281, 1282, 1283, 1284, 1285, 1286, 1287, 1288, 1289, 1290, 1291, 1292, 1293, 1294, 1295, 1296, 1297, 1298, 1299, 1300, 1301, 1302, 1303, 1304, 1305, 1306, 1307, 1308, 1309, 1310, 1311, 1312, 1313, 1314, 1315, 1316, 1317, 1318, 1319, 1320, 1321, 1322, 1323, 1324, 1325, 1326, 1327, 1328, 1329, 1330, 1331, 1332, 1333, 1334, 1335, 1336, 1337, 1338, 1339, 1340, 1341, 1342, 1343, 1344, 1345, 1346, 1347, 1348, 1349, 1350, 1351, 1352, 1353, 1354, 1355, 1356, 1357, 1358, 1359, 1360, 1361, 1362, 1363, 1364, 1365, 1366, 1367, 1368, 1369, 1370, 1371, 1372, 1373, 1374, 1375, 1376, 1377, 1378, 1379, 1380, 1381, 1382, 1383, 1384, 1385, 1386, 1387, 1388, 1389, 1390, 1391, 1392, 1393, 1394, 1395, 1396, 1397, 1398, 1399, 1400, 1401, 1402, 1403, 1404, 1405, 1406, 1407, 1408, 1409, 1410, 1411, 1412, 1413, 1414, 1415, 1416, 1417, 1418, 1419, 1420, 1421, 1422, 1423, 1424, 1425, 1426, 1427, 1428, 1429, 1430, 1431, 1432, 1433, 1434, 1435, 1436, 1437, 1438, 1439, 1440, 1441, 1442, 1443, 1444, 1445, 1446, 1447, 1448, 1449, 1450, 1451, 1452, 1453, 1454, 1455, 1456, 1457, 1458, 1459, 1460, 1461, 1462, 1463, 1464, 1465, 1466, 1467, 1468, 1469, 1470, 1471, 1472, 1473, 1474, 1475, 1476, 1477, 1478, 1479, 1480, 1481, 1482, 1483, 1484, 1485, 1486, 1487, 1488, 1489, 1490, 1491, 1492, 1493, 1494, 1495, 1496, 1497, 1498, 1499, 1500, 1501, 1502, 1503, 1504, 1505, 1506, 1507, 1508, 1509, 1510, 1511, 1512, 1513, 1514, 1515, 1516, 1517, 1518, 1519, 1520, 1521, 1522, 1523, 1524, 1525, 1526, 1527, 1528, 1529, 1530, 1531, 1532, 1533, 1534, 1535, 1536, 1537, 1538, 1539, 1540, 1541, 1542, 1543, 1544, 1545, 1546, 1547, 1548, 1549, 1550, 1551, 1552, 1553, 1554, 1555, 1556, 1557, 1558, 1559, 1560, 1561, 1562, 1563, 1564, 1565, 1566, 1567, 1568, 1569, 1570, 1571, 1572, 1573, 1574, 1575, 1576, 1577, 1578, 1579, 1580, 1581, 1582, 1583, 1584, 1585, 1586, 1587, 1588, 1589, 1590, 1591, 1592, 1593, 1594, 1595, 1596, 1597, 1598, 1599, 1600, 1601, 1602, 1603, 1604, 1605, 1606, 1607, 1608, 1609, 1610, 1611, 1612, 1613, 1614, 1615, 1616, 1617, 1618, 1619, 1620, 1621, 1622, 1623, 1624, 1625, 1626, 1627, 1628, 1629, 1630, 1631, 1632, 1633, 1634, 1635, 1636, 1637, 1638, 1639, 1640, 1641, 1642, 1643, 1644, 1645, 1646, 1647, 1648, 1649, 1650, 1651, 1652, 1653, 1654, 1655, 1656, 1657, 1658, 1659, 1660, 1661, 1662, 1663, 1664, 1665, 1666, 1667, 1668, 1669, 1670, 1671, 1672, 1673, 1674, 1675, 1676, 1677, 1678, 1679, 1680, 1681, 1682, 1683, 1684, 1685, 1686, 1687, 1688, 1689, 1690, 1691, 1692, 1693, 1694, 1695, 1696, 1697, 1698, 1699, 1700, 1701, 1702, 1703, 1704, 1705, 1706, 1707, 1708, 1709, 1710, 1711, 1712, 1713, 1714, 1715, 1716, 1717, 1718, 1719, 1720, 1721, 1722, 1723, 1724, 1725, 1726, 1727, 1728, 1729, 1730, 1731, 1732, 1733, 1734, 1735, 1736, 1737, 1738, 1739, 1740, 1741, 1742, 1743, 1744, 1745, 1746, 1747, 1748, 1749, 1750, 1751, 1752, 1753, 1754, 1755, 1756, 1757, 1758, 1759, 1760, 1761, 1762, 1763, 1764, 1765, 1766, 1767, 1768, 1769, 1770, 1771, 1772, 1773, 1774, 1775, 1776, 1777, 1778, 1779, 1780, 1781, 1782, 1783, 1784, 1785, 1786, 1787, 1788, 1789, 1790, 1791, 1792, 1793, 1794, 1795, 1796, 1797, 1798, 1799, 1800, 1801, 1802, 1803, 1804, 1805, 1806, 1807, 1808, 1809, 1810, 1811, 1812, 1813, 1814, 1815, 1816, 1817, 1818, 1819, 1820, 1821, 1822, 1823, 1824, 1825, 1826, 1827, 1828, 1829, 1830, 1831, 1832, 1833, 1834, 1835, 1836, 1837, 1838, 1839, 1840, 1841, 1842, 1843, 1844, 1845, 1846, 1847, 1848, 1849, 1850, 1851, 1852, 1853, 1854, 1855, 1856, 1857, 1858, 1859, 1860, 1861, 1862, 1863, 1864, 1865, 1866, 1867, 1868, 1869, 1870, 1871, 1872, 1873, 1874, 1875, 1876, 1877, 1878, 1879, 1880, 1881, 1882, 1883, 1884, 1885, 1886, 1887, 1888, 1889, 1890, 1891, 1892, 1893, 1894, 1895, 1896, 1897, 1898, 1899, 1900, 1901, 1902, 1903, 1904, 1905, 1906, 1907, 1908, 1909, 1910, 1911, 1912, 1913, 1914, 1915, 1916, 1917, 1918, 1919, 1920, 1921, 1922, 1923, 1924, 1925, 1926, 1927, 1928, 1929, 1930, 1931, 1932, 1933, 1934, 1935, 1936, 1937, 1938, 1939, 1940, 1941, 1942, 1943, 1944, 1945, 1946, 1947, 1948, 1949, 1950, 1951, 1952, 1953, 1954, 1955, 1956, 1957, 1958, 1959, 1960, 1961, 1962, 1963, 1964, 1965, 1966, 1967, 1968, 1969, 1970, 1971, 1972, 1973, 1974, 1975, 1976, 1977, 1978, 1979, 1980, 1981, 1982, 1983, 1984, 1985, 1986, 1987, 1988, 1989, 1990, 1991, 1992, 1993, 1994, 1995, 1996, 1997, 1998, 1999, 2000]\n",
            "[29, 32, 32, 34, 35, 32, 29, 31, 20, 22, 16, 16, 20, 21, 13, 14, 13, 21, 24, 25, 25, 16, 22, 18, 20, 21, 24, 18, 23, 25, 15, 15, 12, 16, 18, 20, 27, 22, 24, 26, 20, 15, 12, 15, 21, 19, 14, 15, 22, 21, 17, 8, 11, 13, 12, 16, 17, 21, 18, 7, 6, 8, 13, 17, 19, 18, 20, 23, 26, 27, 23, 27, 30, 27, 37, 29, 27, 27, 26, 22, 24, 31, 36, 35, 28, 24, 25, 24, 22, 22, 26, 14, 23, 25, 24, 20, 23, 23, 24, 23, 23, 20, 16, 18, 17, 16, 19, 28, 22, 18, 18, 20, 30, 37, 25, 25, 34, 37, 29, 36, 34, 28, 32, 28, 27, 21, 26, 28, 32, 33, 28, 32, 36, 36, 23, 33, 31, 31, 31, 34, 35, 27, 23, 27, 33, 30, 21, 27, 29, 26, 27, 20, 23, 23, 26, 24, 23, 29, 25, 28, 31, 25, 25, 27, 29, 31, 36, 38, 36, 23, 26, 21, 22, 23, 31, 26, 28, 32, 30, 38, 40, 44, 29, 30, 32, 32, 35, 30, 29, 23, 23, 18, 23, 30, 23, 27, 27, 23, 25, 24, 31, 24, 21, 21, 21, 27, 19, 19, 17, 21, 21, 22, 21, 28, 26, 23, 24, 23, 26, 30, 35, 31, 26, 34, 30, 23, 21, 25, 26, 23, 18, 28, 19, 25, 25, 26, 26, 28, 16, 19, 20, 18, 23, 26, 27, 29, 27, 29, 28, 29, 28, 28, 23, 22, 26, 29, 24, 28, 31, 18, 15, 17, 17, 20, 20, 27, 20, 21, 16, 20, 23, 25, 25, 23, 25, 25, 27, 24, 20, 30, 35, 37, 29, 31, 27, 23, 23, 27, 23, 23, 29, 34, 29, 25, 26, 24, 22, 30, 27, 29, 35, 37, 23, 14, 23, 23, 21, 20, 19, 22, 23, 27, 24, 24, 35, 31, 25, 31, 32, 32, 35, 35, 24, 26, 18, 25, 24, 23, 25, 19, 13, 18, 23, 27, 24, 17, 27, 18, 22, 20, 24, 28, 30, 25, 28, 27, 28, 34, 25, 24, 25, 27, 30, 29, 24, 31, 36, 34, 34, 27, 27, 27, 27, 27, 33, 35, 36, 28, 26, 34, 30, 36, 31, 22, 25, 24, 22, 20, 27, 24, 27, 32, 27, 26, 24, 22, 23, 28, 27, 29, 30, 24, 25, 23, 21, 24, 30, 24, 23, 21, 27, 26, 33, 28, 26, 30, 26, 27, 30, 35, 34, 36, 30, 39, 35, 32, 33, 35, 38, 37, 36, 36, 32, 26, 29, 28, 32, 31, 26, 20, 22, 21, 19, 20, 18, 19, 15, 15, 14, 17, 13, 16, 15, 14, 15, 18, 17, 19, 19, 17, 18, 22, 21, 21, 17, 18, 20, 22, 23, 24, 22, 15, 14, 16, 15, 12, 14, 16, 12, 12, 17, 11, 14, 14, 13, 11, 14, 16, 13, 16, 22, 25, 25, 25, 27, 33, 33, 26, 22, 19, 16, 20, 20, 20, 20, 22, 21, 25, 26, 28, 26, 25, 20, 25, 26, 29, 28, 23, 22, 21, 24, 26, 27, 26, 24, 26, 17, 15, 16, 19, 22, 23, 16, 16, 19, 17, 17, 18, 16, 19, 20, 16, 15, 12, 16, 22, 17, 11, 14, 11, 13, 12, 12, 16, 13, 12, 17, 18, 22, 20, 23, 23, 24, 25, 22, 17, 16, 19, 21, 20, 22, 25, 24, 25, 18, 22, 28, 20, 20, 18, 15, 17, 15, 18, 16, 18, 22, 14, 16, 21, 22, 15, 19, 20, 15, 17, 23, 17, 21, 20, 24, 26, 19, 18, 14, 18, 13, 13, 11, 16, 13, 12, 13, 15, 15, 21, 17, 17, 21, 22, 21, 23, 23, 26, 26, 24, 23, 21, 21, 21, 22, 20, 21, 21, 22, 22, 18, 14, 15, 15, 12, 16, 17, 18, 20, 13, 22, 22, 18, 20, 16, 18, 14, 14, 14, 18, 23, 15, 15, 15, 17, 10, 9, 9, 7, 5, 9, 8, 8, 10, 12, 9, 12, 10, 7, 11, 14, 11, 9, 11, 14, 14, 13, 14, 18, 14, 17, 16, 14, 16, 17, 19, 17, 26, 26, 29, 27, 23, 20, 23, 23, 23, 23, 20, 17, 18, 25, 19, 23, 22, 17, 22, 23, 25, 23, 20, 29, 31, 32, 30, 27, 30, 28, 28, 32, 31, 30, 23, 29, 32, 35, 33, 33, 23, 29, 33, 34, 33, 31, 24, 32, 26, 25, 22, 19, 26, 28, 28, 29, 26, 30, 23, 26, 24, 26, 27, 24, 29, 31, 30, 33, 36, 31, 31, 36, 33, 32, 32, 34, 31, 36, 28, 32, 36, 38, 35, 36, 42, 34, 33, 26, 28, 24, 26, 26, 30, 27, 28, 27, 19, 20, 20, 22, 22, 21, 18, 14, 19, 21, 22, 19, 25, 23, 23, 20, 22, 19, 18, 19, 21, 27, 28, 25, 23, 21, 21, 21, 17, 18, 19, 20, 18, 22, 18, 20, 20, 24, 20, 25, 27, 28, 26, 30, 27, 30, 23, 26, 25, 26, 22, 24, 22, 21, 18, 20, 18, 18, 22, 24, 25, 22, 27, 24, 21, 17, 17, 15, 21, 18, 23, 16, 22, 17, 16, 18, 14, 16, 20, 21, 16, 18, 19, 19, 19, 14, 14, 17, 13, 18, 18, 18, 20, 21, 20, 24, 23, 21, 26, 25, 24, 24, 22, 24, 17, 18, 18, 15, 15, 16, 17, 22, 20, 23, 24, 25, 28, 34, 30, 31, 34, 29, 37, 37, 39, 33, 39, 32, 30, 35, 34, 36, 31, 33, 32, 25, 25, 28, 30, 31, 30, 23, 27, 38, 37, 36, 35, 34, 34, 35, 38, 33, 33, 27, 31, 31, 32, 25, 26, 30, 26, 24, 18, 22, 23, 30, 24, 25, 29, 29, 30, 31, 33, 30, 33, 34, 29, 27, 33, 30, 30, 24, 29, 31, 23, 27, 23, 32, 28, 30, 32, 28, 32, 27, 26, 28, 29, 30, 32, 33, 34, 30, 31, 33, 35, 31, 35, 40, 40, 38, 39, 40, 37, 37, 38, 33, 37, 35, 34, 33, 32, 32, 29, 28, 28, 30, 25, 27, 24, 27, 32, 32, 34, 34, 30, 32, 33, 39, 34, 33, 33, 34, 31, 29, 25, 27, 24, 22, 32, 31, 33, 30, 27, 32, 29, 25, 29, 28, 24, 28, 23, 18, 20, 15, 17, 17, 20, 18, 22, 21, 21, 21, 21, 22, 25, 24, 26, 29, 32, 33, 31, 33, 32, 28, 31, 36, 34, 30, 26, 24, 29, 26, 26, 20, 22, 25, 22, 19, 25, 26, 21, 20, 19, 24, 22, 26, 25, 21, 22, 22, 23, 25, 27, 28, 24, 24, 23, 23, 26, 28, 25, 26, 27, 27, 36, 26, 31, 25, 22, 23, 29, 33, 33, 31, 30, 26, 21, 21, 25, 23, 27, 28, 26, 25, 23, 25, 26, 26, 24, 28, 25, 20, 24, 31, 28, 25, 25, 30, 30, 26, 27, 38, 38, 36, 34, 34, 35, 36, 28, 25, 24, 30, 27, 25, 25, 23, 22, 23, 22, 24, 23, 26, 27, 30, 25, 29, 26, 24, 23, 26, 26, 26, 32, 26, 39, 34, 35, 39, 39, 35, 32, 33, 31, 38, 40, 36, 36, 38, 37, 38, 35, 32, 33, 30, 28, 31, 24, 26, 25, 24, 25, 23, 26, 22, 28, 31, 33, 31, 34, 31, 34, 42, 35, 40, 31, 29, 27, 26, 27, 29, 25, 20, 21, 22, 20, 20, 26, 24, 24, 24, 24, 27, 23, 23, 29, 31, 23, 28, 30, 27, 23, 27, 22, 25, 27, 27, 29, 27, 24, 23, 23, 20, 15, 22, 19, 20, 22, 19, 20, 15, 23, 17, 20, 18, 19, 23, 21, 23, 23, 27, 30, 26, 26, 25, 25, 19, 21, 23, 22, 19, 16, 19, 18, 17, 19, 23, 24, 22, 25, 21, 26, 22, 20, 23, 23, 23, 23, 22, 23, 25, 25, 29, 25, 25, 25, 25, 22, 22, 23, 21, 23, 24, 19, 24, 21, 20, 23, 20, 21, 23, 27, 23, 27, 28, 33, 28, 30, 35, 34, 31, 36, 31, 33, 33, 35, 32, 29, 30, 20, 29, 25, 31, 26, 26, 24, 30, 29, 31, 33, 31, 30, 26, 25, 27, 28, 25, 20, 19, 19, 22, 23, 25, 25, 27, 24, 26, 27, 28, 27, 24, 25, 23, 24, 22, 28, 24, 25, 24, 23, 24, 27, 24, 24, 24, 22, 14, 16, 20, 17, 27, 27, 28, 25, 29, 31, 23, 27, 28, 27, 25, 25, 26, 25, 26, 28, 20, 23, 20, 19, 16, 20, 17, 22, 22, 24, 26, 18, 25, 22, 23, 21, 23, 27, 24, 24, 23, 24, 23, 24, 29, 25, 23, 29, 32, 29, 30, 22, 25, 28, 21, 22, 21, 21, 25, 30, 22, 20, 22, 22, 25, 23, 24, 27, 28, 28, 27, 25, 27, 25, 23, 26, 31, 28, 28, 26, 28, 32, 28, 27, 26, 18, 16, 19, 19, 16, 19, 16, 19, 14, 14, 15, 20, 16, 17, 22, 19, 19, 22, 26, 25, 25, 24, 20, 23, 20, 21, 22, 27, 22, 17, 21, 19, 18, 17, 14, 15, 18, 19, 17, 21, 14, 13, 18, 24, 19, 20, 28, 24, 23, 21, 20, 19, 22, 20, 29, 21, 21, 20, 17, 16, 19, 19, 20, 19, 25, 24, 20, 22, 25, 19, 24, 22, 29, 26, 30, 27, 32, 24, 25, 26, 30, 27, 25, 25, 28, 27, 25, 22, 21, 23, 23, 26, 28, 26, 26, 24, 24, 19, 21, 27, 25, 29, 29, 28, 32, 30, 35, 34, 26, 27, 25, 28, 23, 20, 25, 24, 21, 23, 22, 22, 23, 24, 21, 27, 26, 23, 28, 25, 22, 27, 23, 26, 25, 28, 23, 22, 19, 26, 22, 24, 26, 31, 27, 29, 36, 34, 28, 31, 35, 37, 33, 30, 25, 22, 31, 19, 25, 28, 27, 27, 27, 26, 25, 22, 19, 24, 29, 31, 31, 31, 29, 30, 29, 27, 28, 34, 27, 28, 28, 32, 29, 28, 36, 32, 30, 25, 30, 30, 36, 32, 30, 27, 25, 22, 20, 21, 21, 13, 13, 15, 17, 19, 25, 22, 22, 18, 22, 18, 20, 21, 24, 24, 22, 22, 21, 23, 20, 19, 25, 26, 27, 28, 26, 24, 27, 28, 26, 23, 23, 19, 20, 26, 28, 29, 27, 24, 22, 21, 22, 25, 24, 28, 26, 32, 29, 28, 29, 32, 28, 33, 35, 33, 33, 31, 32, 35, 34, 42, 36, 39, 40, 37, 33, 33, 36, 38, 31, 27, 31, 32, 29, 25, 26, 25, 20, 22, 18, 22, 24, 24, 21, 22, 21, 21, 25, 26, 25, 22, 19, 22, 20, 17, 18, 19, 18, 15, 14, 14, 10, 15, 13, 13, 14, 20, 24, 22, 23, 28, 24, 22, 24, 25, 30, 31, 26, 22, 26, 25, 20, 18, 18, 19, 22, 21, 25, 18, 21, 19, 19, 23, 23, 24, 29, 22, 24, 29, 25, 27, 32, 29, 34, 32, 29, 34, 32, 33, 28, 29, 25, 28, 29, 25, 25, 25, 25, 25, 22, 28, 29, 29, 31, 30, 29, 27, 30, 31, 28, 27, 32, 33, 31, 31, 30, 37, 32, 36, 36, 32, 37, 36, 33, 27, 33, 34, 34, 32, 32, 28, 26, 25, 29, 25, 29, 32, 27, 26, 25, 18, 17, 26, 25, 33, 31, 34, 35, 30, 28, 25, 34, 34, 38, 35, 34, 27, 31, 32, 28, 30, 28, 30, 29, 31, 20, 19, 20, 21, 24, 21, 21, 20, 19, 23, 25, 28, 26, 32, 29, 27, 17, 19, 21, 21, 24, 22, 23, 26, 19, 28, 20, 27, 25, 27, 19, 23, 28, 27, 31, 28, 28, 22, 29, 22, 20, 22, 20, 23, 26, 25, 22, 22, 23, 20, 23, 25, 20, 19, 19, 20, 19, 22, 21, 28, 28, 26, 22, 25, 31, 24, 26, 24, 23, 18, 22, 21, 20, 25, 28, 23, 28, 25, 27, 21, 27, 24, 23, 23, 24, 19, 26, 26, 27, 28, 26, 25, 30, 29, 31, 22, 23, 22, 20, 20, 21, 20, 21, 20, 16, 18, 16, 18, 19]\n"
          ],
          "name": "stdout"
        }
      ]
    },
    {
      "cell_type": "code",
      "metadata": {
        "id": "qTMTrs14el3z"
      },
      "source": [
        "# write id and count into a csv file\r\n",
        "import csv\r\n",
        "out = zip(id,count)\r\n",
        "with open(path+'Part_1.csv','w',newline='') as f:\r\n",
        "  writer = csv.writer(f)\r\n",
        "  writer.writerow(['id','count'])\r\n",
        "  for i in out:\r\n",
        "    writer.writerow(i)"
      ],
      "execution_count": null,
      "outputs": []
    },
    {
      "cell_type": "markdown",
      "metadata": {
        "id": "d3c3zSAB-oT0"
      },
      "source": [
        "# 2"
      ]
    },
    {
      "cell_type": "markdown",
      "metadata": {
        "id": "eMUfPEGQ-1Up"
      },
      "source": [
        "## Crop images"
      ]
    },
    {
      "cell_type": "code",
      "metadata": {
        "id": "DtynrDHp-0fm"
      },
      "source": [
        "# function to crop positive examples in one image\r\n",
        "def crop_positive_examples(img, outputs):\r\n",
        "  crop_imgs = []\r\n",
        "  crop_imgs_cor = [] # coordinates of positive samples\r\n",
        "  out_cpu = outputs[\"instances\"].to(\"cpu\")\r\n",
        "  num = out_cpu.pred_boxes.tensor.shape[0] # number of instances\r\n",
        "  for i in range(num):\r\n",
        "    x1 = int(out_cpu.pred_boxes[i].tensor[0][0])\r\n",
        "    y1 = int(out_cpu.pred_boxes[i].tensor[0][1])\r\n",
        "    x2 = int(out_cpu.pred_boxes[i].tensor[0][2])\r\n",
        "    y2 = int(out_cpu.pred_boxes[i].tensor[0][3])\r\n",
        "    crop_img = img[y1:y2, x1:x2]\r\n",
        "    # resize the image to width: 64, height: 128\r\n",
        "    crop_img = cv2.resize(crop_img,(64,128))\r\n",
        "    C = [x1, y1, x2, y2]\r\n",
        "    crop_imgs.append(crop_img)\r\n",
        "    crop_imgs_cor.append(C)\r\n",
        "  return crop_imgs, crop_imgs_cor"
      ],
      "execution_count": null,
      "outputs": []
    },
    {
      "cell_type": "code",
      "metadata": {
        "id": "WzCBaVJo_WyL"
      },
      "source": [
        "import random\r\n",
        "\r\n",
        "random.seed(10)\r\n",
        "# function to detect rectangle overlap,\r\n",
        "# C1 & C2 are coordinates in form (x1, y1, x2, y2)\r\n",
        "def has_overlap(C1, C2):\r\n",
        "  if (C1[0]>=C2[2]) or (C1[2]<=C2[0]) or (C1[3]<=C2[1]) or (C1[1]>=C2[3]):\r\n",
        "    return False\r\n",
        "  else:\r\n",
        "    return True\r\n",
        "\r\n",
        "# function to check a potential negative sample\r\n",
        "# pos_cor contains coordinates of positive samples\r\n",
        "def is_negative(C1, pos_cor):\r\n",
        "  for i in range(len(pos_cor)):\r\n",
        "    current_cor = pos_cor[i]\r\n",
        "    C2 = [current_cor[0], current_cor[1], current_cor[2], current_cor[3]]\r\n",
        "    if has_overlap(C1, C2):\r\n",
        "      return False\r\n",
        "  return True\r\n",
        "\r\n",
        "# function to extract negative patches\r\n",
        "# pos_cor contains coordinates of positive samples\r\n",
        "def crop_negative_examples(img, pos_cor):\r\n",
        "  crop_imgs = []\r\n",
        "  i = 0\r\n",
        "  while (i < 21): # number of negative samples to extract\r\n",
        "    # coordinates of a random negative sample\r\n",
        "    x1 = random.randint(0, 589)\r\n",
        "    y1 = random.randint(0, 379)\r\n",
        "    x2 = x1 + 50\r\n",
        "    y2 = y1 + 100\r\n",
        "    C = [x1, y1, x2, y2]\r\n",
        "    if is_negative(C, pos_cor):\r\n",
        "      crop_img = img[y1:y2, x1:x2]\r\n",
        "      # resize the image to width: 64, height: 128\r\n",
        "      crop_img = cv2.resize(crop_img,(64,128))\r\n",
        "      crop_imgs.append(crop_img)\r\n",
        "      i += 1\r\n",
        "  return crop_imgs"
      ],
      "execution_count": null,
      "outputs": []
    },
    {
      "cell_type": "markdown",
      "metadata": {
        "id": "3Ufzal5J_jar"
      },
      "source": [
        "## Create model\r\n",
        "Get positive and negative features from the first 100 images using HoG, set positive features to label 1 and negative features to label 0, then create SVM model."
      ]
    },
    {
      "cell_type": "code",
      "metadata": {
        "colab": {
          "base_uri": "https://localhost:8080/"
        },
        "id": "aSB5sSbJ_iMu",
        "outputId": "8ccb686a-d781-4aeb-81e7-70fe5a555bc3"
      },
      "source": [
        "# Inference with a keypoint detection model\r\n",
        "cfg = get_cfg()   # get a fresh new config\r\n",
        "cfg.merge_from_file(model_zoo.get_config_file(\"COCO-Keypoints/keypoint_rcnn_R_50_FPN_3x.yaml\"))\r\n",
        "cfg.MODEL.ROI_HEADS.SCORE_THRESH_TEST = 0.5  # set threshold for this model\r\n",
        "cfg.MODEL.WEIGHTS = model_zoo.get_checkpoint_url(\"COCO-Keypoints/keypoint_rcnn_R_50_FPN_3x.yaml\")\r\n",
        "predictor = DefaultPredictor(cfg)\r\n",
        "\r\n",
        "id = [] # this variable will store id of photo\r\n",
        "count = [] # this variable will store count of human in the photo\r\n",
        "total_positive = [] # this variable will store all positive patches\r\n",
        "total_negative = [] # this variable will store all negative patches\r\n",
        "\r\n",
        "for i in range(100):\r\n",
        "  id.append(i+1)\r\n",
        "  im = cv2.imread(path_frames+my_files[i])\r\n",
        "  outputs = predictor(im)\r\n",
        "  positive,positive_cor = crop_positive_examples(im,outputs)\r\n",
        "  negative = crop_negative_examples(im,positive_cor)\r\n",
        "  for idx in positive:\r\n",
        "    total_positive.append(idx)\r\n",
        "  for idx in negative:\r\n",
        "    total_negative.append(idx)\r\n",
        "  count.append(len(outputs[\"instances\"]))\r\n",
        "\r\n",
        "print(id)\r\n",
        "print(count)"
      ],
      "execution_count": null,
      "outputs": [
        {
          "output_type": "stream",
          "text": [
            "[1, 2, 3, 4, 5, 6, 7, 8, 9, 10, 11, 12, 13, 14, 15, 16, 17, 18, 19, 20, 21, 22, 23, 24, 25, 26, 27, 28, 29, 30, 31, 32, 33, 34, 35, 36, 37, 38, 39, 40, 41, 42, 43, 44, 45, 46, 47, 48, 49, 50, 51, 52, 53, 54, 55, 56, 57, 58, 59, 60, 61, 62, 63, 64, 65, 66, 67, 68, 69, 70, 71, 72, 73, 74, 75, 76, 77, 78, 79, 80, 81, 82, 83, 84, 85, 86, 87, 88, 89, 90, 91, 92, 93, 94, 95, 96, 97, 98, 99, 100]\n",
            "[29, 32, 32, 34, 35, 32, 29, 31, 20, 22, 16, 16, 20, 21, 13, 14, 13, 21, 24, 25, 25, 16, 22, 18, 20, 21, 24, 18, 23, 25, 15, 15, 12, 16, 18, 20, 27, 22, 24, 26, 20, 15, 12, 15, 21, 19, 14, 15, 22, 21, 17, 8, 11, 13, 12, 16, 17, 21, 18, 7, 6, 8, 13, 17, 19, 18, 20, 23, 26, 27, 23, 27, 30, 27, 37, 29, 27, 27, 26, 22, 24, 31, 36, 35, 28, 24, 25, 24, 22, 22, 26, 14, 23, 25, 24, 20, 23, 23, 24, 23]\n"
          ],
          "name": "stdout"
        }
      ]
    },
    {
      "cell_type": "code",
      "metadata": {
        "colab": {
          "base_uri": "https://localhost:8080/"
        },
        "id": "WBluuOR-A75b",
        "outputId": "496389d2-d15f-422d-d5de-eba7139291cd"
      },
      "source": [
        "from skimage.feature import hog\r\n",
        "\r\n",
        "total_positive_color = np.array(total_positive)\r\n",
        "total_negative_color = np.array(total_negative)\r\n",
        "positive_features = [] # this variable will store all positive features\r\n",
        "negative_features = [] # this variable will store all negative features\r\n",
        "\r\n",
        "# In the Dalal and Triggs human detection experiment, the optimal parameters for hog were found to be four 8x8 pixels cells per block (16x16 pixels per block) with 9 histogram channels.\r\n",
        "# get positive features\r\n",
        "for i in range(len(total_positive_color)):\r\n",
        "  fd = hog(total_positive_color[i], orientations=9, pixels_per_cell=(8, 8), cells_per_block=(2, 2), visualize=False, multichannel=True)\r\n",
        "  positive_features.append(fd)\r\n",
        "\r\n",
        "# get negative features\r\n",
        "for i in range(len(total_negative_color)):\r\n",
        "  fd = hog(total_negative_color[i], orientations=9, pixels_per_cell=(8, 8), cells_per_block=(2, 2), visualize=False, multichannel=True)\r\n",
        "  negative_features.append(fd)\r\n",
        "\r\n",
        "# concatenate positive and negative features to form train features\r\n",
        "positive_features = np.array(positive_features)\r\n",
        "negative_features = np.array(negative_features)\r\n",
        "train_features = np.concatenate((positive_features, negative_features), axis=0)\r\n",
        "print(positive_features.shape)\r\n",
        "print(negative_features.shape)\r\n",
        "print(train_features.shape)"
      ],
      "execution_count": null,
      "outputs": [
        {
          "output_type": "stream",
          "text": [
            "(2148, 3780)\n",
            "(2100, 3780)\n",
            "(4248, 3780)\n"
          ],
          "name": "stdout"
        }
      ]
    },
    {
      "cell_type": "code",
      "metadata": {
        "colab": {
          "base_uri": "https://localhost:8080/"
        },
        "id": "Jzjt_BR_FWTS",
        "outputId": "edd1940a-670d-453a-888b-539eb4e8ece6"
      },
      "source": [
        "from sklearn import svm\r\n",
        "\r\n",
        "positive_labels = np.ones(positive_features.shape[0]) # set labels to 1 for positive features\r\n",
        "negative_labels = np.zeros(negative_features.shape[0]) # set labels to 0 for positive features\r\n",
        "# append together to form train labels\r\n",
        "train_labels = np.append(positive_labels,negative_labels,0)\r\n",
        "\r\n",
        "print(positive_labels.shape)\r\n",
        "print(negative_labels.shape)\r\n",
        "print(train_labels.shape)\r\n",
        "\r\n",
        "# create SVM model\r\n",
        "clf = svm.SVC(C=100,kernel='linear')\r\n",
        "clf.fit(train_features,train_labels)"
      ],
      "execution_count": null,
      "outputs": [
        {
          "output_type": "stream",
          "text": [
            "(2148,)\n",
            "(2100,)\n",
            "(4248,)\n"
          ],
          "name": "stdout"
        },
        {
          "output_type": "execute_result",
          "data": {
            "text/plain": [
              "SVC(C=100, break_ties=False, cache_size=200, class_weight=None, coef0=0.0,\n",
              "    decision_function_shape='ovr', degree=3, gamma='scale', kernel='linear',\n",
              "    max_iter=-1, probability=False, random_state=None, shrinking=True,\n",
              "    tol=0.001, verbose=False)"
            ]
          },
          "metadata": {
            "tags": []
          },
          "execution_count": 17
        }
      ]
    },
    {
      "cell_type": "markdown",
      "metadata": {
        "id": "BKkSwKiNF6ld"
      },
      "source": [
        "## Sliding window with NMS"
      ]
    },
    {
      "cell_type": "code",
      "metadata": {
        "id": "RvLHVUABGB_1"
      },
      "source": [
        "from skimage.transform import pyramid_gaussian\r\n",
        "from imutils.object_detection import non_max_suppression\r\n",
        "\r\n",
        "# This function returns (64,128)(width,height) patch images\r\n",
        "# Starting from the top-left corner, the change in x and y is step size each time\r\n",
        "def sliding_window(img,window_size,step_size):\r\n",
        "  for x in range(0,img.shape[1]-window_size[0],step_size[0]):\r\n",
        "    for y in range(0,img.shape[0]-window_size[1],step_size[1]):\r\n",
        "      yield(x,y,cv2.resize(img[y:y+window_size[1],x:x+window_size[0]],(64,128)))\r\n",
        "\r\n",
        "def detector(im):\r\n",
        "  window_size = (30,60) # (width,height)\r\n",
        "  step_size = (15,30) # (width,height)\r\n",
        "  downscale = 1.3\r\n",
        "  detections = []\r\n",
        "  scale = 0\r\n",
        "  for img in pyramid_gaussian(im,max_layer=3,downscale=downscale,multichannel=True):\r\n",
        "    for (x,y,window) in sliding_window(img,window_size,step_size):\r\n",
        "      window = np.array(window*255, dtype=np.uint8)\r\n",
        "      window = cv2.cvtColor(window,cv2.COLOR_BGR2GRAY)\r\n",
        "      test_feature = hog(window, orientations=9, pixels_per_cell=(8, 8), cells_per_block=(2, 2), visualize=False, multichannel=False)\r\n",
        "      test_feature = np.reshape(test_feature,(1,-1))\r\n",
        "      #print(test_feature.shape)\r\n",
        "      #print(hog_image.shape)\r\n",
        "      if clf.predict(test_feature)==1:\r\n",
        "        if clf.decision_function(test_feature) > 1.7:\r\n",
        "          detections.append((int(x*(downscale**scale)),int(y*(downscale**scale)),clf.decision_function(test_feature),int(window_size[0]*(downscale**scale)),int(window_size[1]*(downscale**scale))))\r\n",
        "    scale += 1\r\n",
        "  im_copy = im.copy()\r\n",
        "  rects = np.array([[x, y, x + w, y + h] for (x, y, _, w, h) in detections])\r\n",
        "  sc = [score[0] for (x, y, score, w, h) in detections]\r\n",
        "  #print (\"sc: \", sc)\r\n",
        "  sc = np.array(sc)\r\n",
        "  pick = non_max_suppression(rects, probs = sc, overlapThresh = 0.3)\r\n",
        "  for (xA, yA, xB, yB) in pick:\r\n",
        "    cv2.rectangle(im_copy, (xA, yA), (xB, yB), (0, 255, 0), 2)\r\n",
        "  return pick"
      ],
      "execution_count": null,
      "outputs": []
    },
    {
      "cell_type": "markdown",
      "metadata": {
        "id": "6CMnVruZR-a2"
      },
      "source": [
        "## Intersection-over-union"
      ]
    },
    {
      "cell_type": "code",
      "metadata": {
        "id": "iBYiNOMXSFBm"
      },
      "source": [
        "# This is a function used to calculate IoU of two patches\r\n",
        "def bb_intersection_over_union(boxA, boxB):\r\n",
        "\t# determine the (x, y)-coordinates of the intersection rectangle\r\n",
        "\txA = max(boxA[0], boxB[0])\r\n",
        "\tyA = max(boxA[1], boxB[1])\r\n",
        "\txB = min(boxA[2], boxB[2])\r\n",
        "\tyB = min(boxA[3], boxB[3])\r\n",
        "\t# compute the area of intersection rectangle\r\n",
        "\tinterArea = max(0, xB - xA + 1) * max(0, yB - yA + 1)\r\n",
        "\t# compute the area of both the prediction and ground-truth\r\n",
        "\t# rectangles\r\n",
        "\tboxAArea = (boxA[2] - boxA[0] + 1) * (boxA[3] - boxA[1] + 1)\r\n",
        "\tboxBArea = (boxB[2] - boxB[0] + 1) * (boxB[3] - boxB[1] + 1)\r\n",
        "\t# compute the intersection over union by taking the intersection\r\n",
        "\t# area and dividing it by the sum of prediction + ground-truth\r\n",
        "\t# areas - the interesection area\r\n",
        "\tiou = interArea / float(boxAArea + boxBArea - interArea)\r\n",
        "\t# return the intersection over union value\r\n",
        "\treturn iou"
      ],
      "execution_count": null,
      "outputs": []
    },
    {
      "cell_type": "code",
      "metadata": {
        "id": "Xtrj5KJRSJxz"
      },
      "source": [
        "# This is a function which is used to calculate all IoUs between positive patches in part 1\r\n",
        "# and its corresponding positive patches in part 2, then it returns the average IoU\r\n",
        "def cal_IoU(positive_cor, detections):\r\n",
        "  IoUs = []\r\n",
        "  for (x1,y1,x2,y2) in positive_cor:\r\n",
        "    min = (x1 - x2)**2 + (y1 - y2)**2\r\n",
        "    threshold = min / 4\r\n",
        "    min_cor = [0, 0, 0, 0]\r\n",
        "    cx1 = (x1 + x2) / 2\r\n",
        "    cy1 = (y1 + y2) / 2\r\n",
        "    for (xA, yA, xB, yB) in detections:\r\n",
        "      cx = (xA + xB) / 2\r\n",
        "      cy = (yA + yB) / 2\r\n",
        "      cur = (cx1 - cx)**2 + (cy1 - cy)**2\r\n",
        "      if cur < min:\r\n",
        "        min = cur\r\n",
        "        min_cor = [xA, yA, xB, yB]\r\n",
        "    if min < threshold:\r\n",
        "      boxA = [x1,y1,x2,y2]\r\n",
        "      #cv2_imshow(test_img[y1:y2,x1:x2])\r\n",
        "      #cv2_imshow(test_img[min_cor[1]:min_cor[3],min_cor[0]:min_cor[2]])\r\n",
        "      iou = bb_intersection_over_union(boxA, min_cor)\r\n",
        "      IoUs.append(iou)\r\n",
        "    else:\r\n",
        "      IoUs.append(0)\r\n",
        "  average = sum(IoUs)/len(IoUs)\r\n",
        "  return average"
      ],
      "execution_count": null,
      "outputs": []
    },
    {
      "cell_type": "code",
      "metadata": {
        "id": "azyr-S42UIEC"
      },
      "source": [
        "id = [] # this variable will store id of photo\r\n",
        "IoU = [] # this variable will store average IoU of photo\r\n",
        "count = [] # this variable will store count of human in the photo\r\n",
        "\r\n",
        "for i in range(2000):\r\n",
        "  id.append(i+1)\r\n",
        "  im = cv2.imread(path_frames+my_files[i])\r\n",
        "  outputs = predictor(im)\r\n",
        "  detections = detector(im)\r\n",
        "  count.append(len(detections))\r\n",
        "  positive,positive_cor = crop_positive_examples(im,outputs)\r\n",
        "  iou = cal_IoU(positive_cor,detections)\r\n",
        "  IoU.append(iou)\r\n",
        "  print(i)\r\n",
        "\r\n",
        "print(id)\r\n",
        "print(IoU)\r\n",
        "print(count)"
      ],
      "execution_count": null,
      "outputs": []
    },
    {
      "cell_type": "code",
      "metadata": {
        "id": "l7NYxPmGT7Fz"
      },
      "source": [
        "# write id and IoU into a csv file\r\n",
        "\r\n",
        "out = zip(id,IoU)\r\n",
        "with open(path+'Part_2_IoU.csv','w',newline='') as f:\r\n",
        "  writer = csv.writer(f)\r\n",
        "  writer.writerow(['id','IoU'])\r\n",
        "  for i in out:\r\n",
        "    writer.writerow(i)"
      ],
      "execution_count": null,
      "outputs": []
    },
    {
      "cell_type": "code",
      "metadata": {
        "id": "k1xHjA_oaU3W"
      },
      "source": [
        "# write id and IoU into a csv file\r\n",
        "\r\n",
        "out = zip(id,count)\r\n",
        "with open(path+'Part_2_count.csv','w',newline='') as f:\r\n",
        "  writer = csv.writer(f)\r\n",
        "  writer.writerow(['id','count'])\r\n",
        "  for i in out:\r\n",
        "    writer.writerow(i)"
      ],
      "execution_count": null,
      "outputs": []
    }
  ]
}